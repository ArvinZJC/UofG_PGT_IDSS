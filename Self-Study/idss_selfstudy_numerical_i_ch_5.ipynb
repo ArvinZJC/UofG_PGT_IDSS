{
 "cells": [
  {
   "cell_type": "markdown",
   "metadata": {},
   "source": [
    "----\n",
    "# Introduction to Data Science and Systems\n",
    "\n",
    "## Self-study: Arrays, numpy and vectorisaiton\n",
    "\n",
    "### Chapter 5: Numerical aspects¶\n",
    "\n",
    "##### University of Glasgow - material prepared by John H. Williamson*; adapted to IDSS by BSJ.\n",
    " \n",
    " \n",
    "$$\\newcommand{\\vec}[1]{{\\bf #1}} \n",
    "\\newcommand{\\real}{\\mathbb{R}}\n",
    "\\newcommand{\\expect}[1]{\\mathbb{E}[#1]}\n",
    "\\DeclareMathOperator*{\\argmin}{arg\\,min}\n",
    "\\newcommand{\\vec}[1]{{\\bf #1} } \n",
    "\\newcommand{\\examinable}{{\\quad\\quad\\LARGE[\\spadesuit]}}\n",
    "\\newcommand{\\real}{\\mathbb{R}}\n",
    "\\newcommand{\\expect}[1]{\\mathbb{E}[#1]}\n",
    "\\DeclareMathOperator*{\\argmin}{arg\\,min}\n",
    "%\\vec{x}\n",
    "%\\real\n",
    "%\\examinable\n",
    "%\\vec{x}\n",
    "%\\real\n",
    "$$\n",
    "\n",
    "\n",
    "\n",
    "---"
   ]
  },
  {
   "cell_type": "markdown",
   "metadata": {},
   "source": [
    "## Summary <a class=\"tocSkip\">\n",
    "By the end of this chapter you should know:\n",
    "* how IEEE 754 `float32` and `float64` numbers are represented\n",
    "* how infinity and NaN are represented, how they occur and how they are used\n",
    "* what roundoff error is and how it tends to be caused\n",
    "* how to compare floating point numbers\n",
    "* what machine epsilon is and how it is defined"
   ]
  },
  {
   "cell_type": "code",
   "execution_count": 1,
   "metadata": {},
   "outputs": [
    {
     "output_type": "execute_result",
     "data": {
      "text/plain": [
       "<IPython.core.display.HTML object>"
      ],
      "text/html": "\n<script>\n  function code_toggle() {\n    if (code_shown){\n      $('div.input').hide('500');\n      $('#toggleButton').val('Show Code')\n    } else {\n      $('div.input').show('500');\n      $('#toggleButton').val('Hide Code')\n    }\n    code_shown = !code_shown\n  }\n\n  $( document ).ready(function(){\n    code_shown=false;\n    $('div.input').hide()\n  });\n</script>\n<form action=\"javascript:code_toggle()\"><input type=\"submit\" id=\"toggleButton\" value=\"Show Code\"></form>"
     },
     "metadata": {},
     "execution_count": 1
    }
   ],
   "source": [
    "import IPython.display\n",
    "IPython.display.HTML(\"\"\"\n",
    "<script>\n",
    "  function code_toggle() {\n",
    "    if (code_shown){\n",
    "      $('div.input').hide('500');\n",
    "      $('#toggleButton').val('Show Code')\n",
    "    } else {\n",
    "      $('div.input').show('500');\n",
    "      $('#toggleButton').val('Hide Code')\n",
    "    }\n",
    "    code_shown = !code_shown\n",
    "  }\n",
    "\n",
    "  $( document ).ready(function(){\n",
    "    code_shown=false;\n",
    "    $('div.input').hide()\n",
    "  });\n",
    "</script>\n",
    "<form action=\"javascript:code_toggle()\"><input type=\"submit\" id=\"toggleButton\" value=\"Show Code\"></form>\"\"\")"
   ]
  },
  {
   "cell_type": "code",
   "execution_count": 2,
   "metadata": {},
   "outputs": [
    {
     "output_type": "stream",
     "name": "stderr",
     "text": [
      "C:\\Users\\zjcar\\anaconda3\\lib\\site-packages\\IPython\\kernel\\__init__.py:12: ShimWarning: The `IPython.kernel` package has been deprecated since IPython 4.0.You should import from ipykernel or jupyter_client instead.\n  warn(\"The `IPython.kernel` package has been deprecated since IPython 4.0.\"\n"
     ]
    }
   ],
   "source": [
    "import numpy as np\n",
    "import matplotlib as mpl\n",
    "import matplotlib.pyplot as plt\n",
    "from jhwutils.float_inspector import print_shape_html, print_float, print_float_html\n",
    "from jhwutils.matrices import show_boxed_tensor_latex, print_matrix\n",
    "import jhwutils.image_audio as ia\n",
    "import numpy as np\n",
    "%matplotlib inline\n",
    "plt.rc('figure', figsize=(8.0, 4.0), dpi=140)"
   ]
  },
  {
   "cell_type": "markdown",
   "metadata": {},
   "source": [
    "# Example: when asteroids collide\n",
    "\n",
    "<img src=\"imgs/asteroid.jpg\">\n",
    "*[Image credit: [NASA/JPL](https://www.jpl.nasa.gov/spaceimages/details.php?id=PIA00118)]*\n",
    "\n",
    "You work at a satellite company, developing models of satellite behaviour for asteroid mining. Your boss asks you to model the movement of one of your mining satellites on an large asteroid with four small metal-rich asteroids orbiting it. Your satellite is supposed approach one of the small asteroids and whisk it off towards the mining station for operations.\n",
    "\n",
    "You implement a simple physical model which calculates the interaction between the graviational fields of your satellite and the asteroids and it looks like it works fine:"
   ]
  },
  {
   "cell_type": "code",
   "execution_count": 3,
   "metadata": {},
   "outputs": [],
   "source": [
    "from jhwutils.tkanvas import TKanvas\n",
    "\n",
    "# array: x,y,dx,dy,mass\n",
    "planets = np.array([\n",
    "    [0, 0, 0, 0, 500],  # the big asteroid\n",
    "    [10, 0, 0, -2., 5],\n",
    "    [-10, 0, 0, 2., 5],\n",
    "    [0, 10, 2, 0., 5],\n",
    "    [0, -10, -2, 0., 5],\n",
    "    [0, -11, -2.0, -0.3, 1.0],  # the satellite\n",
    "])\n",
    "\n",
    "# how far away we move the point before simulating\n",
    "offset = np.array([0, 0])\n",
    "#offset = np.array([1e14, 2e14])\n",
    "planets[:, 0:2] += offset\n",
    "sat_path = []\n",
    "\n",
    "def draw_planets(kanvas):\n",
    "    kanvas.clear()\n",
    "    scale = 20\n",
    "    positions = (planets[:, 0:2] - offset) * scale + np.array(\n",
    "        [kanvas.cx, kanvas.cy])\n",
    "    radii = planets[:, -1]**(0.2) * 5\n",
    "    for i in range(len(planets)):\n",
    "        if radii[i]==5.0:\n",
    "            kanvas.circle(positions[i, 0], positions[i, 1],\n",
    "                          radii[i], fill='red')\n",
    "        else:\n",
    "            kanvas.circle(positions[i, 0], positions[i, 1],\n",
    "                          radii[i], fill='white')\n",
    "        \n",
    "    kanvas.rectangle(kanvas.w-40, kanvas.h-300, kanvas.w, \n",
    "                     kanvas.h-100, fill='gray')\n",
    "    if len(sat_path)>2:        \n",
    "        path = ((np.array(sat_path) - offset) *\n",
    "        scale + np.array([kanvas.cx, kanvas.cy]))   \n",
    "        kanvas.canvas.create_line(*(path.ravel()), \n",
    "                                  width=1, fill='red')\n",
    "\n",
    "\n",
    "def simulate_planets(dt):\n",
    "    \n",
    "    for i in range(len(planets)):\n",
    "        # accumulate force into this vector\n",
    "        total_force = np.zeros(2, )\n",
    "        for j in range(len(planets)):\n",
    "            if i != j:\n",
    "                d = planets[j][0:2] - planets[i][0:2]\n",
    "                force = np.sqrt(np.sum(d * d))\n",
    "                direction = d / force\n",
    "\n",
    "                # this is totally inaccurate and\n",
    "                # nothing like real physical forces!\n",
    "                total_force += 3.0 * direction * planets[j][-1] / (\n",
    "                    force**2 + 0.1)\n",
    "\n",
    "        # integrate, Euler style\n",
    "        dt = 0.05\n",
    "        planets[i][2:4] += total_force[0:2] * dt * dt * 0.5\n",
    "        planets[i][0:2] += planets[i][2:4] * dt\n",
    "    sat_path.append(np.array(planets[-1][0:2]))\n",
    "\n",
    "\n",
    "k = TKanvas(draw_fn=draw_planets, \n",
    "            tick_fn=simulate_planets,\n",
    "            w=1000, h=1000)\n",
    "%gui tk"
   ]
  },
  {
   "cell_type": "markdown",
   "metadata": {},
   "source": [
    "## It's all relative, right?\n",
    "Your boss is a stickler for detail and asks you to make to coordinates you are using correct, and that the centre of the asteroid is really 1 $\\times10^{14}$m away from Earth. Since the gravitational simulation is just based on the *relative* distances of bodies, this makes no difference; you just need to remove the offset before drawing the results on screen.\n",
    "\n",
    "You run the simulation again, with the offset added...\n",
    "\n",
    "----\n"
   ]
  },
  {
   "cell_type": "markdown",
   "metadata": {},
   "source": [
    "## Algebra: a loss of structure\n",
    "The **algebraic properties** of operators on real numbers (associativity, distributivity, and commutativity) are *not* preserved with the representation of numbers that we use for computations. The approximations used to store these numbers efficiently for computational purposes means that:\n",
    "\n",
    "$$ab \\neq ba, a+b \\neq b+a, \\text{etc.}$$\n",
    "$$a(b+c) \\neq ab + bc$$\n",
    "$$a(bc) \\neq (ab)c$$\n",
    "\n",
    "Of course, most of the time, a good representation will be very close to these properties and they will almost hold, or at least hold for many specific examples. *But they are not preserved in general.*"
   ]
  },
  {
   "cell_type": "code",
   "execution_count": 4,
   "metadata": {},
   "outputs": [
    {
     "output_type": "stream",
     "name": "stdout",
     "text": [
      "0.0\n1e+120\n"
     ]
    }
   ],
   "source": [
    "print(1e120 +  1e-120 + -1e120)\n",
    "print(1e120  + -1e120 + 1e120)"
   ]
  },
  {
   "cell_type": "markdown",
   "metadata": {},
   "source": [
    "# Number types\n",
    "There are different representations for numbers that can be stored in arrays. Of these, **integers** and **floating point numbers** are of most relevance. Integers are familiar in their operation, but floats have some subtlety.\n",
    "\n",
    "## Integers\n",
    "Integers represent whole numbers (no fractional part). They come in two varieties: signed and unsigned. In memory, these are (normally!) stored as binary 2's complement (for signed) or unsigned binary (for unsigned).\n",
    "\n",
    "Most 64 bit systems support operations on at least the following integer types:\n",
    "\n",
    "| name   | bytes | min                        | max                        |\n",
    "|--------|-------|----------------------------|----------------------------|\n",
    "| int8   | 1     | -128                       | 127                        |\n",
    "| uint8  | 1     | 0                          | 255                        |\n",
    "| int16  | 2     | -32,768                    | 32,767                     |\n",
    "| uint16 | 2     | 0                          | 65,535                     |\n",
    "| int32  | 4     | -2,147,483,648             | 2,147,483,647              |\n",
    "| uint32 | 4     | 0                          | 4,294,967,295              |\n",
    "| int64  | 8     | -9,223,372,036,854,775,808 | +9,223,372,036,854,775,807 |\n",
    "| uint64 | 8     | 0                          | 18,446,744,073,709,551,615 |\n",
    "\n",
    "An operation which exceeds the bounds of the type results in **overflow**. Overflows have behaviour that may be undefined; for example adding 8 to the int8 value 120 (exceeds 127; result might be 127, or -128, or some other number). In most systems you will ever see, the result will be to wrap around, computing the operation modulo the range of the integer type.\n",
    "\n",
    "NumPy allows integer arrays, although we won't use them extensively:"
   ]
  },
  {
   "cell_type": "code",
   "execution_count": 5,
   "metadata": {},
   "outputs": [
    {
     "output_type": "stream",
     "name": "stdout",
     "text": [
      "[100 110 120]\n[ 120 -126 -116]\n"
     ]
    }
   ],
   "source": [
    "int_array  = np.array([100,110,120], dtype=np.int8)\n",
    "print(int_array)\n",
    "print(int_array+20) # beware!im"
   ]
  },
  {
   "cell_type": "code",
   "execution_count": 6,
   "metadata": {},
   "outputs": [
    {
     "output_type": "stream",
     "name": "stdout",
     "text": [
      "[100 110 120]\n[120 130 140]\n[250   4  14]\n"
     ]
    }
   ],
   "source": [
    "uint_array  = np.array([100,110,120], dtype=np.uint8)\n",
    "print(uint_array)\n",
    "\n",
    "print(uint_array+20) # ok\n",
    "print(uint_array+150) # wrap, but through 0 this time"
   ]
  },
  {
   "cell_type": "markdown",
   "metadata": {},
   "source": [
    "# Floats\n",
    "\n",
    "\n",
    "## Floating point representation\n",
    "Integers have (very) limited range, and don't represent fractional parts of numbers. Floating point is the most common representation for numbers that may be very large or small, and where fractional parts are required. Most modern computing hardware supports floating point numbers directly in hardware.\n",
    "\n",
    "(side note: floating point isn't **required** for fractional representation; *fixed point* notation can also be used, but is much less flexible in terms of available range. It is often faster on simple hardware like microcontrollers; however modern CPUs and GPUs have extremely fast floating point units)\n",
    "\n",
    "<img src=\"imgs/die-labeled.jpg\"> \n",
    "\n",
    "*[The die of the 8087, the first Intel hardware floating point unit. From http://www.righto.com/2018/09/two-bits-per-transistor-high-density.html]*\n",
    "\n",
    "Unlike integers, floating point numbers have some surprising properties which can cause **numerical issues**. "
   ]
  },
  {
   "cell_type": "markdown",
   "metadata": {},
   "source": [
    "\n",
    "**All floating point numbers are is a compact way to represent numbers of very large range, by allowing a fractional number with a standardised range (*mantissa*, varies from 1.0 to just less than 2.0) with a scaling or stretching factor (*exponent*, varies in steps of powers of 2).**\n",
    "\n",
    "<img src=\"imgs/floats.svg\" width=\"100%\">\n",
    "\n",
    "*[Floating point numbers can be thought of as numbers between 1.0 and 2.0, that can be shifted and stretched by doubling or halving repeatedly]*\n",
    "\n",
    "\n",
    "\n",
    "The advantage of this is that the for a relatively small number of digits, a very large range of numbers can be represented. The precision, however, is variable, with very precise representation of small numbers (close to zero) and coarser representation of numbers far from 0."
   ]
  },
  {
   "cell_type": "markdown",
   "metadata": {},
   "source": [
    "### Sign, exponent, mantissa\n",
    "\n",
    "A floating point number is represented by three parts, each of which is in practice an integer. Just like scientific notation, the number is separated into an exponent (the magnitude of a number) and a mantissa (the fractional part of a number).\n",
    "\n",
    "**Scientific notation**\n",
    "\n",
    "For example, in scientific notation, `5340.2` is writen `5.3402 * 10^3` (or `5.3402e3`). Likewise, `0.00051` is written `5.1 * 10^(-4)` or `5.1e-4`. There is always *exactly* one digit before the decimal point; the \"shift\" to put the decimal in the right place is written in the exponent portion.\n",
    "\n",
    "       5.3402     * 10 ^ 3\n",
    "       [mantissa] * 10 ^ [exponent]\n",
    "\n",
    "The advantage of this is that the for a relatively small number of digits, a very large range of numbers can be represented. The precision, however, is variable, with very precise representation of small numbers (close to zero) and coarser representation of numbers far from 0.\n",
    "\n",
    "#### Binary floating point\n",
    "In binary floating point, calculations are done base 2, and every number is split into three parts. These parts are:\n",
    "\n",
    "* the **sign**; a single bit indicating if a number is positive or negative\n",
    "* the **exponent**; a signed integer indicating how much to \"shift\" the mantissa by\n",
    "* the **mantissa**; an unsigned integer representing the fractional part of the number, following the 1.\n",
    "\n",
    "A floating point number is equal to:\n",
    "\n",
    "    sign * (1.[mantissa]) * (2^exponent)\n",
    "\n",
    "#### The leading one    \n",
    "Note that a leading 1 is inserted before the mantissa; this is because it is unnecessary to represent the first digit, as we know the mantissa represents a number between 1.0 (inclusive) and 2.0 (exclusive). Instead, the leading one is *implicitly* present in all computations.\n",
    "\n",
    "The mantissa is always a positive number, stored as an integer such that it would be shifted until the first digit was just after the decimal point. So a mantissa which was stored as a 23 digit binary integer $00100111010001001000101_2$ would really represent the number $1.00100111010001001000101_2$\n",
    "The exponent is stored as a positive integer, with an implied \"offset\" to allow it to represent negative numbers. \n",
    "\n",
    "For example, in `float32`, the format is:\n",
    "\n",
    "    1     8      23\n",
    "    sign  exp.   mantisssa\n",
    "    \n",
    "The exponents in `float32` are stored with an implied offset of -127 (the \"bias\"), so exponent=0 really means exponent=-127.\n",
    "\n",
    "So if we had a `float32` number\n",
    "\n",
    "      1 10000011 00100111010001001000101\n",
    "      \n",
    "What do we know? \n",
    "\n",
    "1. The number is negative, because leading bit (sign bit) is 1.\n",
    "1. The mantissa represents $1.00100111010001001000101_2 = 1.153389573097229_{10}$\n",
    "1. The exponent represents $2^{131-127} = 2^4 = 16$ ($1000011_2=131_{10}$), because of the implied offset.\n",
    "\n",
    "So the number which is represented can be computed as follows:"
   ]
  },
  {
   "cell_type": "code",
   "execution_count": 7,
   "metadata": {},
   "outputs": [
    {
     "output_type": "stream",
     "name": "stdout",
     "text": [
      "exponent (decimal, including bias) 4\nmantissa (decimal, including leading 1) 1.153389573097229\nnumber -18.454233169555664\n"
     ]
    }
   ],
   "source": [
    "sign = \"1\"\n",
    "exponent = \"10000011\"\n",
    "mantissa = \"00100111010001001000101\"\n",
    "\n",
    "exponent = int(exponent, 2) - 127 # compensate for bias\n",
    "mantissa = 1.0 + int(mantissa, 2) / 2**len(mantissa) # convert to 1.xxxx format\n",
    "\n",
    "print(\"exponent (decimal, including bias)\", exponent)\n",
    "print(\"mantissa (decimal, including leading 1)\", mantissa)\n",
    "\n",
    "if sign==\"1\":\n",
    "    number = -1 * mantissa * 2 ** exponent\n",
    "else:\n",
    "    number =  mantissa * 2 ** exponent\n",
    "    \n",
    "print(\"number\", number)    "
   ]
  },
  {
   "cell_type": "markdown",
   "metadata": {},
   "source": [
    "### IEEE 754\n",
    "The dominant standard for floating point numbers is IEEE754, which specifies both a representation for floating point numbers and operations defined upon them, along with a set of conventions for \"special\" numbers.\n",
    "\n",
    "The IEEE754 standard types are given below:\n",
    "\n",
    "| Name       | Common name         | Base | Digits | Decimal digits | Exponent bits | Decimal E max | Exponent bias  | E min   | E max   | Notes     |\n",
    "|------------|---------------------|------|--------|----------------|---------------|---------------|----------------|---------|---------|-----------|\n",
    "| binary16   | Half precision      | 2    | 11     | 3.31           | 5             | 4.51          | 2^4−1 = 15      | −14     | +15     | not basic |\n",
    "| **binary32**   | Single precision    | 2    | 24     | 7.22           | 8             | 38.23         | 2^7−1 = 127     | −126    | +127    |           |\n",
    "| **binary64**   | Double precision    | 2    | 53     | 15.95          | 11            | 307.95        | 2^10−1 = 1023   | −1022   | +1023   |           |\n",
    "| binary128  | Quadruple precision | 2    | 113    | 34.02          | 15            | 4931.77       | 2^14−1 = 16383  | −16382  | +16383  |           |\n",
    "| binary256  | Octuple precision   | 2    | 237    | 71.34          | 19            | 78913.2       | 2^18−1 = 262143 | −262142 | +262143 | not basic |\n",
    "\n",
    "\n"
   ]
  },
  {
   "cell_type": "markdown",
   "metadata": {},
   "source": [
    "#### Floats, doubles \n",
    "Almost all floating point computations are either done in **single precision** (**float32**, sometimes just called \"float\") or **double precision** (**float64**, sometimes just called \"double\"). \n",
    "\n",
    "**float32** is 32 bits, or 4 bytes per number; **float64** is 64 bits or 8 bytes per number.\n",
    "\n",
    "GPUs typically are fastest (by a long way) using **float32**, but can do double precision **float64** computations at some significant cost. \n",
    "\n",
    "Most desktop CPUs (e.g. x86) have specialised **float64** hardware (or for x86 slightly odd 80-bit \"long double\" representations).\n",
    "\n",
    "#### Exotic floating point numbers\n",
    "Some GPUs can do very fast **float16** operations, but this is an unusual format outside of some specialised machine learning applications, where precision isn't critical.\n",
    "\n",
    "**float128** and **float256** are very rare outside of astronomical simulations where tiny errors matter and scales are very large. For example, [JPL's ephemeris of the solar system](https://ssd.jpl.nasa.gov/?ephemerides) is computed using `float128`. Software support for `float128` or `float256` is relatively rare. NumPy does not support `float128` or `float256`, for example.\n",
    "\n",
    "IEEE 754 also specifies **floating-point decimal** formats that are rarely used outside of specialised applications, like some calculators."
   ]
  },
  {
   "cell_type": "markdown",
   "metadata": {},
   "source": [
    "## Binary representation of floats\n",
    "We can take any float and look at its representation in memory, where it will be a fixed length sequence of bits (e.g. float64 = 64 bits). This can be split up into the sign, exponent and mantissa. Let's look at some examples:"
   ]
  },
  {
   "cell_type": "code",
   "execution_count": 8,
   "metadata": {},
   "outputs": [
    {
     "output_type": "display_data",
     "data": {
      "text/plain": "<IPython.core.display.HTML object>",
      "text/html": "<h3> 1.00000000000000000000 / 1.00e+00 </h3><table width=\"100%\"> <tr> <td width=\"10%\"></td> <td width=\"5%\"> <b>  </b> </td> <td> <b>  </b> </td> <td> <b>  </b> </td> </tr><tr> <td width=\"5%\"> Raw  </td> <td colspan=\"3\"> 0|01111111111|0000000000000000000000000000000000000000000000000000 </td> </tr> <tr> <td width=\"5%\"> Hex </td> <td colspan=\"3\"> 00 00 00 00 00 00 F0 3F</td></tr><tr> <td width=\"10%\"></td> <td width=\"5%\"> <b> Sign </b> </td> <td> <b> Exp </b> </td> <td> <b> Mantissa </b> </td> </tr><tr> <td> Binary </td> <td>0</td> <td>01111111111</td> <td>0000000000000000000000000000000000000000000000000000</td> <td></td> </tr><tr> <td> Integer </td> <td>    1 </td> <td>        0 </td> <td>                                                   0 </td> </tr><tr> <td> Power </td> <td> 1 </td> <td> 2<sup>0</sup> </td> <td>  1.0 </td> </tr><tr> <td> = </td> <td> 1  </td> <td> 1.00e+00 </td> <td> 1.0 </td> </tr><tr><td></td></tr><tr> <td> Float </td> <td colspan=\"2\"> 1.00000000000000000000 </td><td> 1.00e+00 </td> </tr></table>"
     },
     "metadata": {}
    }
   ],
   "source": [
    "print_float_html(1.0)  "
   ]
  },
  {
   "cell_type": "code",
   "execution_count": 9,
   "metadata": {},
   "outputs": [
    {
     "output_type": "display_data",
     "data": {
      "text/plain": "<IPython.core.display.HTML object>",
      "text/html": "<h3> 4.00000000000000000000 / 4.00e+00 </h3><table width=\"100%\"> <tr> <td width=\"10%\"></td> <td width=\"5%\"> <b>  </b> </td> <td> <b>  </b> </td> <td> <b>  </b> </td> </tr><tr> <td width=\"5%\"> Raw  </td> <td colspan=\"3\"> 0|10000000001|0000000000000000000000000000000000000000000000000000 </td> </tr> <tr> <td width=\"5%\"> Hex </td> <td colspan=\"3\"> 00 00 00 00 00 00 10 40</td></tr><tr> <td width=\"10%\"></td> <td width=\"5%\"> <b> Sign </b> </td> <td> <b> Exp </b> </td> <td> <b> Mantissa </b> </td> </tr><tr> <td> Binary </td> <td>0</td> <td>10000000001</td> <td>0000000000000000000000000000000000000000000000000000</td> <td></td> </tr><tr> <td> Integer </td> <td>    1 </td> <td>        2 </td> <td>                                                   0 </td> </tr><tr> <td> Power </td> <td> 1 </td> <td> 2<sup>2</sup> </td> <td>  1.0 </td> </tr><tr> <td> = </td> <td> 1  </td> <td> 4.00e+00 </td> <td> 1.0 </td> </tr><tr><td></td></tr><tr> <td> Float </td> <td colspan=\"2\"> 4.00000000000000000000 </td><td> 4.00e+00 </td> </tr></table>"
     },
     "metadata": {}
    }
   ],
   "source": [
    "print_float_html(4.0)  "
   ]
  },
  {
   "cell_type": "code",
   "execution_count": 10,
   "metadata": {},
   "outputs": [
    {
     "output_type": "display_data",
     "data": {
      "text/plain": "<IPython.core.display.HTML object>",
      "text/html": "<h3> 5.00000000000000000000 / 5.00e+00 </h3><table width=\"100%\"> <tr> <td width=\"10%\"></td> <td width=\"5%\"> <b>  </b> </td> <td> <b>  </b> </td> <td> <b>  </b> </td> </tr><tr> <td width=\"5%\"> Raw  </td> <td colspan=\"3\"> 0|10000000001|0100000000000000000000000000000000000000000000000000 </td> </tr> <tr> <td width=\"5%\"> Hex </td> <td colspan=\"3\"> 00 00 00 00 00 00 14 40</td></tr><tr> <td width=\"10%\"></td> <td width=\"5%\"> <b> Sign </b> </td> <td> <b> Exp </b> </td> <td> <b> Mantissa </b> </td> </tr><tr> <td> Binary </td> <td>0</td> <td>10000000001</td> <td>0100000000000000000000000000000000000000000000000000</td> <td></td> </tr><tr> <td> Integer </td> <td>    1 </td> <td>        2 </td> <td>                                    1125899906842624 </td> </tr><tr> <td> Power </td> <td> 1 </td> <td> 2<sup>2</sup> </td> <td>  1.25 </td> </tr><tr> <td> = </td> <td> 1  </td> <td> 4.00e+00 </td> <td> 1.25 </td> </tr><tr><td></td></tr><tr> <td> Float </td> <td colspan=\"2\"> 5.00000000000000000000 </td><td> 5.00e+00 </td> </tr></table>"
     },
     "metadata": {}
    }
   ],
   "source": [
    "print_float_html(5.0)  "
   ]
  },
  {
   "cell_type": "code",
   "execution_count": 11,
   "metadata": {},
   "outputs": [
    {
     "output_type": "display_data",
     "data": {
      "text/plain": "<IPython.core.display.HTML object>",
      "text/html": "<h3> 0.25000000000000000000 / 2.50e-01 </h3><table width=\"100%\"> <tr> <td width=\"10%\"></td> <td width=\"5%\"> <b>  </b> </td> <td> <b>  </b> </td> <td> <b>  </b> </td> </tr><tr> <td width=\"5%\"> Raw  </td> <td colspan=\"3\"> 0|01111111101|0000000000000000000000000000000000000000000000000000 </td> </tr> <tr> <td width=\"5%\"> Hex </td> <td colspan=\"3\"> 00 00 00 00 00 00 D0 3F</td></tr><tr> <td width=\"10%\"></td> <td width=\"5%\"> <b> Sign </b> </td> <td> <b> Exp </b> </td> <td> <b> Mantissa </b> </td> </tr><tr> <td> Binary </td> <td>0</td> <td>01111111101</td> <td>0000000000000000000000000000000000000000000000000000</td> <td></td> </tr><tr> <td> Integer </td> <td>    1 </td> <td>       -2 </td> <td>                                                   0 </td> </tr><tr> <td> Power </td> <td> 1 </td> <td> 2<sup>-2</sup> </td> <td>  1.0 </td> </tr><tr> <td> = </td> <td> 1  </td> <td> 2.50e-01 </td> <td> 1.0 </td> </tr><tr><td></td></tr><tr> <td> Float </td> <td colspan=\"2\"> 0.25000000000000000000 </td><td> 2.50e-01 </td> </tr></table>"
     },
     "metadata": {}
    }
   ],
   "source": [
    "print_float_html(0.25)  "
   ]
  },
  {
   "cell_type": "code",
   "execution_count": 12,
   "metadata": {},
   "outputs": [
    {
     "output_type": "display_data",
     "data": {
      "text/plain": "<IPython.core.display.HTML object>",
      "text/html": "<h3> 0.33333333333333331483 / 3.33e-01 </h3><table width=\"100%\"> <tr> <td width=\"10%\"></td> <td width=\"5%\"> <b>  </b> </td> <td> <b>  </b> </td> <td> <b>  </b> </td> </tr><tr> <td width=\"5%\"> Raw  </td> <td colspan=\"3\"> 0|01111111101|0101010101010101010101010101010101010101010101010101 </td> </tr> <tr> <td width=\"5%\"> Hex </td> <td colspan=\"3\"> 55 55 55 55 55 55 D5 3F</td></tr><tr> <td width=\"10%\"></td> <td width=\"5%\"> <b> Sign </b> </td> <td> <b> Exp </b> </td> <td> <b> Mantissa </b> </td> </tr><tr> <td> Binary </td> <td>0</td> <td>01111111101</td> <td>0101010101010101010101010101010101010101010101010101</td> <td></td> </tr><tr> <td> Integer </td> <td>    1 </td> <td>       -2 </td> <td>                                    1501199875790165 </td> </tr><tr> <td> Power </td> <td> 1 </td> <td> 2<sup>-2</sup> </td> <td>  1.3333333333333333 </td> </tr><tr> <td> = </td> <td> 1  </td> <td> 2.50e-01 </td> <td> 1.3333333333333333 </td> </tr><tr><td></td></tr><tr> <td> Float </td> <td colspan=\"2\"> 0.33333333333333331483 </td><td> 3.33e-01 </td> </tr></table>"
     },
     "metadata": {}
    }
   ],
   "source": [
    "print_float_html(1.0/3.0)  "
   ]
  },
  {
   "cell_type": "code",
   "execution_count": 13,
   "metadata": {},
   "outputs": [
    {
     "output_type": "display_data",
     "data": {
      "text/plain": "<IPython.core.display.HTML object>",
      "text/html": "<h3> 2000000.01000000000931322575 / 2.00e+06 </h3><table width=\"100%\"> <tr> <td width=\"10%\"></td> <td width=\"5%\"> <b>  </b> </td> <td> <b>  </b> </td> <td> <b>  </b> </td> </tr><tr> <td width=\"5%\"> Raw  </td> <td colspan=\"3\"> 0|10000010011|1110100001001000000000000010100011110101110000101001 </td> </tr> <tr> <td width=\"5%\"> Hex </td> <td colspan=\"3\"> 29 5C 8F 02 80 84 3E 41</td></tr><tr> <td width=\"10%\"></td> <td width=\"5%\"> <b> Sign </b> </td> <td> <b> Exp </b> </td> <td> <b> Mantissa </b> </td> </tr><tr> <td> Binary </td> <td>0</td> <td>10000010011</td> <td>1110100001001000000000000010100011110101110000101001</td> <td></td> </tr><tr> <td> Integer </td> <td>    1 </td> <td>       20 </td> <td>                                    4086335007579177 </td> </tr><tr> <td> Power </td> <td> 1 </td> <td> 2<sup>20</sup> </td> <td>  1.9073486423492432 </td> </tr><tr> <td> = </td> <td> 1  </td> <td> 1.05e+06 </td> <td> 1.9073486423492432 </td> </tr><tr><td></td></tr><tr> <td> Float </td> <td colspan=\"2\"> 2000000.01000000000931322575 </td><td> 2.00e+06 </td> </tr></table>"
     },
     "metadata": {}
    }
   ],
   "source": [
    "print_float_html(2000000.01)  "
   ]
  },
  {
   "cell_type": "code",
   "execution_count": 14,
   "metadata": {},
   "outputs": [
    {
     "output_type": "display_data",
     "data": {
      "text/plain": "<IPython.core.display.HTML object>",
      "text/html": "<h3> 601999999999999995805696.00000000000000000000 / 6.02e+23 </h3><table width=\"100%\"> <tr> <td width=\"10%\"></td> <td width=\"5%\"> <b>  </b> </td> <td> <b>  </b> </td> <td> <b>  </b> </td> </tr><tr> <td width=\"5%\"> Raw  </td> <td colspan=\"3\"> 0|10001001101|1111110111101001111100010000101010001101001101100001 </td> </tr> <tr> <td width=\"5%\"> Hex </td> <td colspan=\"3\"> 61 D3 A8 10 9F DE DF 44</td></tr><tr> <td width=\"10%\"></td> <td width=\"5%\"> <b> Sign </b> </td> <td> <b> Exp </b> </td> <td> <b> Mantissa </b> </td> </tr><tr> <td> Binary </td> <td>0</td> <td>10001001101</td> <td>1111110111101001111100010000101010001101001101100001</td> <td></td> </tr><tr> <td> Integer </td> <td>    1 </td> <td>       78 </td> <td>                                    4466899411325793 </td> </tr><tr> <td> Power </td> <td> 1 </td> <td> 2<sup>78</sup> </td> <td>  1.9918509150276906 </td> </tr><tr> <td> = </td> <td> 1  </td> <td> 3.02e+23 </td> <td> 1.9918509150276906 </td> </tr><tr><td></td></tr><tr> <td> Float </td> <td colspan=\"2\"> 601999999999999995805696.00000000000000000000 </td><td> 6.02e+23 </td> </tr></table>"
     },
     "metadata": {}
    }
   ],
   "source": [
    "print_float_html(6.02e23)   # Avogadro's number (approximately)"
   ]
  },
  {
   "cell_type": "code",
   "execution_count": 15,
   "metadata": {},
   "outputs": [
    {
     "output_type": "display_data",
     "data": {
      "text/plain": "<IPython.core.display.HTML object>",
      "text/html": "<h3> 0.00000000000000000000 / 1.00e-90 </h3><table width=\"100%\"> <tr> <td width=\"10%\"></td> <td width=\"5%\"> <b>  </b> </td> <td> <b>  </b> </td> <td> <b>  </b> </td> </tr><tr> <td width=\"5%\"> Raw  </td> <td colspan=\"3\"> 0|01011010100|0000010010111101100110000100100110010000111001101111 </td> </tr> <tr> <td width=\"5%\"> Hex </td> <td colspan=\"3\"> 6F 0E 99 84 D9 4B 40 2D</td></tr><tr> <td width=\"10%\"></td> <td width=\"5%\"> <b> Sign </b> </td> <td> <b> Exp </b> </td> <td> <b> Mantissa </b> </td> </tr><tr> <td> Binary </td> <td>0</td> <td>01011010100</td> <td>0000010010111101100110000100100110010000111001101111</td> <td></td> </tr><tr> <td> Integer </td> <td>    1 </td> <td>     -299 </td> <td>                                      83397604609647 </td> </tr><tr> <td> Power </td> <td> 1 </td> <td> 2<sup>-299</sup> </td> <td>  1.018517988167243 </td> </tr><tr> <td> = </td> <td> 1  </td> <td> 9.82e-91 </td> <td> 1.018517988167243 </td> </tr><tr><td></td></tr><tr> <td> Float </td> <td colspan=\"2\"> 0.00000000000000000000 </td><td> 1.00e-90 </td> </tr></table>"
     },
     "metadata": {}
    }
   ],
   "source": [
    "print_float_html(1e-90)  "
   ]
  },
  {
   "cell_type": "code",
   "execution_count": 16,
   "metadata": {},
   "outputs": [
    {
     "output_type": "display_data",
     "data": {
      "text/plain": "<IPython.core.display.HTML object>",
      "text/html": "<h3> 1500000000000000078757140382806630373056702871662238732373781173267703686983362293679557062620671796065556665749325817265413784853040645863467188277180060474272580801389863705606745350692182135089053429852456199917621678558451461320111979114170213741868888183230085264257173504208294580298189100810240.00000000000000000000 / 1.50e+300 </h3><table width=\"100%\"> <tr> <td width=\"10%\"></td> <td width=\"5%\"> <b>  </b> </td> <td> <b>  </b> </td> <td> <b>  </b> </td> </tr><tr> <td width=\"5%\"> Raw  </td> <td colspan=\"3\"> 0|11111100100|0001111010110010110101100110000000000101100000110101 </td> </tr> <tr> <td width=\"5%\"> Hex </td> <td colspan=\"3\"> 35 58 00 66 2D EB 41 7E</td></tr><tr> <td width=\"10%\"></td> <td width=\"5%\"> <b> Sign </b> </td> <td> <b> Exp </b> </td> <td> <b> Mantissa </b> </td> </tr><tr> <td> Binary </td> <td>0</td> <td>11111100100</td> <td>0001111010110010110101100110000000000101100000110101</td> <td></td> </tr><tr> <td> Integer </td> <td>    1 </td> <td>      997 </td> <td>                                     540055194064949 </td> </tr><tr> <td> Power </td> <td> 1 </td> <td> 2<sup>997</sup> </td> <td>  1.1199163422038627 </td> </tr><tr> <td> = </td> <td> 1  </td> <td> 1.34e+300 </td> <td> 1.1199163422038627 </td> </tr><tr><td></td></tr><tr> <td> Float </td> <td colspan=\"2\"> 1500000000000000078757140382806630373056702871662238732373781173267703686983362293679557062620671796065556665749325817265413784853040645863467188277180060474272580801389863705606745350692182135089053429852456199917621678558451461320111979114170213741868888183230085264257173504208294580298189100810240.00000000000000000000 </td><td> 1.50e+300 </td> </tr></table>"
     },
     "metadata": {}
    }
   ],
   "source": [
    "print_float_html(1.5e300)"
   ]
  },
  {
   "cell_type": "markdown",
   "metadata": {},
   "source": [
    "### Integers in floats\n",
    "For **float64**, every integer from $-2^{53}$ to $2^{53}$ is precisely representable; integers outside of this range are not represented exactly (this is because the mantissa is effectively 53 bits, including the implicit leading 1)."
   ]
  },
  {
   "cell_type": "code",
   "execution_count": 17,
   "metadata": {},
   "outputs": [
    {
     "output_type": "display_data",
     "data": {
      "text/plain": "<IPython.core.display.HTML object>",
      "text/html": "<h3> 9007199254740991.00000000000000000000 / 9.01e+15 </h3><table width=\"100%\"> <tr> <td width=\"10%\"></td> <td width=\"5%\"> <b>  </b> </td> <td> <b>  </b> </td> <td> <b>  </b> </td> </tr><tr> <td width=\"5%\"> Raw  </td> <td colspan=\"3\"> 0|10000110011|1111111111111111111111111111111111111111111111111111 </td> </tr> <tr> <td width=\"5%\"> Hex </td> <td colspan=\"3\"> FF FF FF FF FF FF 3F 43</td></tr><tr> <td width=\"10%\"></td> <td width=\"5%\"> <b> Sign </b> </td> <td> <b> Exp </b> </td> <td> <b> Mantissa </b> </td> </tr><tr> <td> Binary </td> <td>0</td> <td>10000110011</td> <td>1111111111111111111111111111111111111111111111111111</td> <td></td> </tr><tr> <td> Integer </td> <td>    1 </td> <td>       52 </td> <td>                                    4503599627370495 </td> </tr><tr> <td> Power </td> <td> 1 </td> <td> 2<sup>52</sup> </td> <td>  1.9999999999999998 </td> </tr><tr> <td> = </td> <td> 1  </td> <td> 4.50e+15 </td> <td> 1.9999999999999998 </td> </tr><tr><td></td></tr><tr> <td> Float </td> <td colspan=\"2\"> 9007199254740991.00000000000000000000 </td><td> 9.01e+15 </td> </tr></table>"
     },
     "metadata": {}
    },
    {
     "output_type": "stream",
     "name": "stdout",
     "text": [
      "9007199254740991\n"
     ]
    }
   ],
   "source": [
    "print_float_html(1.0 * 2**53-1)\n",
    "print(2**53-1)  # exactly the same"
   ]
  },
  {
   "cell_type": "code",
   "execution_count": 18,
   "metadata": {},
   "outputs": [
    {
     "output_type": "display_data",
     "data": {
      "text/plain": "<IPython.core.display.HTML object>",
      "text/html": "<h3> 9007199254740992.00000000000000000000 / 9.01e+15 </h3><table width=\"100%\"> <tr> <td width=\"10%\"></td> <td width=\"5%\"> <b>  </b> </td> <td> <b>  </b> </td> <td> <b>  </b> </td> </tr><tr> <td width=\"5%\"> Raw  </td> <td colspan=\"3\"> 0|10000110100|0000000000000000000000000000000000000000000000000000 </td> </tr> <tr> <td width=\"5%\"> Hex </td> <td colspan=\"3\"> 00 00 00 00 00 00 40 43</td></tr><tr> <td width=\"10%\"></td> <td width=\"5%\"> <b> Sign </b> </td> <td> <b> Exp </b> </td> <td> <b> Mantissa </b> </td> </tr><tr> <td> Binary </td> <td>0</td> <td>10000110100</td> <td>0000000000000000000000000000000000000000000000000000</td> <td></td> </tr><tr> <td> Integer </td> <td>    1 </td> <td>       53 </td> <td>                                                   0 </td> </tr><tr> <td> Power </td> <td> 1 </td> <td> 2<sup>53</sup> </td> <td>  1.0 </td> </tr><tr> <td> = </td> <td> 1  </td> <td> 9.01e+15 </td> <td> 1.0 </td> </tr><tr><td></td></tr><tr> <td> Float </td> <td colspan=\"2\"> 9007199254740992.00000000000000000000 </td><td> 9.01e+15 </td> </tr></table>"
     },
     "metadata": {}
    },
    {
     "output_type": "stream",
     "name": "stdout",
     "text": [
      "9007199254740993\n"
     ]
    }
   ],
   "source": [
    "print_float_html(1.0 * 2**53+1)\n",
    "print(2**53+1) # not the same!"
   ]
  },
  {
   "cell_type": "code",
   "execution_count": 19,
   "metadata": {},
   "outputs": [
    {
     "output_type": "stream",
     "name": "stdout",
     "text": [
      "7730993719707444524137094408\n"
     ]
    },
    {
     "output_type": "display_data",
     "data": {
      "text/plain": "<IPython.core.display.HTML object>",
      "text/html": "<h3> 7730993719707444064475414528.00000000000000000000 / 7.73e+27 </h3><table width=\"100%\"> <tr> <td width=\"10%\"></td> <td width=\"5%\"> <b>  </b> </td> <td> <b>  </b> </td> <td> <b>  </b> </td> </tr><tr> <td width=\"5%\"> Raw  </td> <td colspan=\"3\"> 0|10001011011|1000111110101110110110011001010100011010010101100111 </td> </tr> <tr> <td width=\"5%\"> Hex </td> <td colspan=\"3\"> 67 A5 51 99 ED FA B8 45</td></tr><tr> <td width=\"10%\"></td> <td width=\"5%\"> <b> Sign </b> </td> <td> <b> Exp </b> </td> <td> <b> Mantissa </b> </td> </tr><tr> <td> Binary </td> <td>0</td> <td>10001011011</td> <td>1000111110101110110110011001010100011010010101100111</td> <td></td> </tr><tr> <td> Integer </td> <td>    1 </td> <td>       92 </td> <td>                                    2527698200143207 </td> </tr><tr> <td> Power </td> <td> 1 </td> <td> 2<sup>92</sup> </td> <td>  1.5612617482205111 </td> </tr><tr> <td> = </td> <td> 1  </td> <td> 4.95e+27 </td> <td> 1.5612617482205111 </td> </tr><tr><td></td></tr><tr> <td> Float </td> <td colspan=\"2\"> 7730993719707444064475414528.00000000000000000000 </td><td> 7.73e+27 </td> </tr></table>"
     },
     "metadata": {}
    }
   ],
   "source": [
    "print(7**33+1) # very different!\n",
    "print_float_html(1.0 * 7**33+1)\n"
   ]
  },
  {
   "cell_type": "markdown",
   "metadata": {},
   "source": [
    "## Special features of floats\n",
    "As well as their huge range, floats have some special properties that are critical for numerical computations."
   ]
  },
  {
   "cell_type": "markdown",
   "metadata": {},
   "source": [
    "### Float exceptions\n",
    "Float operations, unlike integers, can cause *exceptions* to happen during calculations. These exceptions occur at the *hardware* level, not in the operating system or language. The OS/language can configure how to respond to them (for example, Unix systems send the signal SIGFPE to the process which can handle it how it wishes).\n",
    "\n",
    "There are five standard floating point exceptions that can occur.\n",
    "\n",
    "* **Invalid Operation**\n",
    "Occurs when an operation without a defined real number result is attempted, like 0.0 / 0.0 or sqrt(-1.0).\n",
    "\n",
    "*  **Division by Zero**\n",
    "Occurs when dividing by zero."
   ]
  },
  {
   "cell_type": "markdown",
   "metadata": {},
   "source": [
    "* **Overflow**\n",
    "Occurs if the result of a computation exceeds the limits of the floating point number (e.g. a `float64` operations results in a number > 1e308)\n",
    "\n",
    "* **Underflow**\n",
    "Occurs if the result of a computation is smaller than the smallest representable number, and so is rounded off to zero.\n",
    "\n",
    "* **Inexact**\n",
    "Occurs if a computation will produce an inexact result due to rounding.\n",
    "\n",
    "----\n",
    "\n",
    "Each exception can be trapped or untrapped. An untrapped exception will not halt execution, and will instead do some default operation (e.g. untrapped divide by zero will output infinity instead of halting). A trapped exception will cause the process to be signaled in to indicate that the operation is problematic, at which point it can either halt or take another action.\n",
    "\n",
    "Usually, `invalid operation` is trapped, and `inexact` and `underflow` are not trapped. `overflow` and `division by zero` may or may not be trapped. NumPy traps all except `inexact`, but normally just prints a warning and continues; it can be configured to halt and raise an exception instead."
   ]
  },
  {
   "cell_type": "code",
   "execution_count": 20,
   "metadata": {},
   "outputs": [
    {
     "output_type": "stream",
     "name": "stderr",
     "text": [
      "<ipython-input-20-4e60da0a6c7d>:1: RuntimeWarning: invalid value encountered in true_divide\n  np.array(0.0) / np.array(0.0)   # invalid operation (results in nan)\n"
     ]
    },
    {
     "output_type": "execute_result",
     "data": {
      "text/plain": [
       "nan"
      ]
     },
     "metadata": {},
     "execution_count": 20
    }
   ],
   "source": [
    "np.array(0.0) / np.array(0.0)   # invalid operation (results in nan)"
   ]
  },
  {
   "cell_type": "code",
   "execution_count": 21,
   "metadata": {},
   "outputs": [
    {
     "output_type": "stream",
     "name": "stderr",
     "text": [
      "<ipython-input-21-d9b576972ee5>:1: RuntimeWarning: divide by zero encountered in true_divide\n  np.array(1.0) / np.array(0.0)   # divide by zero\n"
     ]
    },
    {
     "output_type": "execute_result",
     "data": {
      "text/plain": [
       "inf"
      ]
     },
     "metadata": {},
     "execution_count": 21
    }
   ],
   "source": [
    "np.array(1.0) / np.array(0.0)   # divide by zero"
   ]
  },
  {
   "cell_type": "code",
   "execution_count": 22,
   "metadata": {},
   "outputs": [
    {
     "output_type": "execute_result",
     "data": {
      "text/plain": [
       "0.6666666666666666"
      ]
     },
     "metadata": {},
     "execution_count": 22
    }
   ],
   "source": [
    "np.array(2.0) / np.array(3.0)   # inexact (not trapped by NumPy)"
   ]
  },
  {
   "cell_type": "code",
   "execution_count": 23,
   "metadata": {},
   "outputs": [
    {
     "output_type": "stream",
     "name": "stderr",
     "text": [
      "<ipython-input-23-798d81d213b2>:1: RuntimeWarning: overflow encountered in multiply\n  np.array(100.0) * np.array(1e307) # overflow (results in inf)\n"
     ]
    },
    {
     "output_type": "execute_result",
     "data": {
      "text/plain": [
       "inf"
      ]
     },
     "metadata": {},
     "execution_count": 23
    }
   ],
   "source": [
    "np.array(100.0) * np.array(1e307) # overflow (results in inf)"
   ]
  },
  {
   "cell_type": "code",
   "execution_count": 24,
   "metadata": {},
   "outputs": [
    {
     "output_type": "execute_result",
     "data": {
      "text/plain": [
       "1e-308"
      ]
     },
     "metadata": {},
     "execution_count": 24
    }
   ],
   "source": [
    "np.array(0.1) * np.array(1e-307) # underflow (results in smallest possible float, by default)"
   ]
  },
  {
   "cell_type": "code",
   "execution_count": 25,
   "metadata": {},
   "outputs": [
    {
     "output_type": "stream",
     "name": "stderr",
     "text": [
      "<ipython-input-25-dfe8dec814d3>:2: RuntimeWarning: underflow encountered in multiply\n  np.array(000000.1) * np.array(1e-307) # underflow (results in smallest possible float, by default)\n"
     ]
    },
    {
     "output_type": "execute_result",
     "data": {
      "text/plain": [
       "1e-308"
      ]
     },
     "metadata": {},
     "execution_count": 25
    }
   ],
   "source": [
    "np.seterr(under='warn') # enable underflow trap\n",
    "np.array(000000.1) * np.array(1e-307) # underflow (results in smallest possible float, by default)"
   ]
  },
  {
   "cell_type": "markdown",
   "metadata": {},
   "source": [
    "## Special numbers\n",
    "### Zero: +0.0 and -0.0\n",
    "\n",
    "IEEE 754 has both positive and negative zero representations. Positive zero has zero sign, exponent and mantissa. Negative zero has the sign bit set.\n",
    "\n",
    "Positive and negative 0.0 compare equal, and work exactly the same in all operations, except for the sign bit propagating."
   ]
  },
  {
   "cell_type": "code",
   "execution_count": 26,
   "metadata": {},
   "outputs": [
    {
     "output_type": "display_data",
     "data": {
      "text/plain": "<IPython.core.display.HTML object>",
      "text/html": "<h3> 0.00000000000000000000 / 0.00e+00 </h3><table width=\"100%\"> <tr> <td width=\"10%\"></td> <td width=\"5%\"> <b>  </b> </td> <td> <b>  </b> </td> <td> <b>  </b> </td> </tr><tr> <td width=\"5%\"> Raw  </td> <td colspan=\"3\"> 0|00000000000|0000000000000000000000000000000000000000000000000000 </td> </tr> <tr> <td width=\"5%\"> Hex </td> <td colspan=\"3\"> 00 00 00 00 00 00 00 00</td></tr><tr> <td width=\"10%\"></td> <td width=\"5%\"> <b> Sign </b> </td> <td> <b> Exp </b> </td> <td> <b> Mantissa </b> </td> </tr><tr> <td> Binary </td> <td>0</td> <td>00000000000</td> <td>0000000000000000000000000000000000000000000000000000</td> <td></td> </tr><tr> <td> Integer </td> <td>    1 </td> <td>    -1023 </td> <td>                                                   0 </td> </tr><tr> <td> Power </td> <td> 1 </td> <td> 2<sup>-1023</sup> </td> <td>  0.0 </td> </tr><tr> <td> = </td> <td> 1  </td> <td> 1.11e-308 </td> <td> 0.0 </td> </tr><tr><td></td></tr><tr> <td> Float </td> <td colspan=\"2\"> 0.00000000000000000000 </td><td> 0.00e+00 </td> </tr></table>"
     },
     "metadata": {}
    }
   ],
   "source": [
    "print_float_html(+0.0) # this is an all zero bit pattern"
   ]
  },
  {
   "cell_type": "code",
   "execution_count": 27,
   "metadata": {},
   "outputs": [
    {
     "output_type": "display_data",
     "data": {
      "text/plain": "<IPython.core.display.HTML object>",
      "text/html": "<h3> -0.00000000000000000000 / -0.00e+00 </h3><table width=\"100%\"> <tr> <td width=\"10%\"></td> <td width=\"5%\"> <b>  </b> </td> <td> <b>  </b> </td> <td> <b>  </b> </td> </tr><tr> <td width=\"5%\"> Raw  </td> <td colspan=\"3\"> 1|00000000000|0000000000000000000000000000000000000000000000000000 </td> </tr> <tr> <td width=\"5%\"> Hex </td> <td colspan=\"3\"> 00 00 00 00 00 00 00 80</td></tr><tr> <td width=\"10%\"></td> <td width=\"5%\"> <b> Sign </b> </td> <td> <b> Exp </b> </td> <td> <b> Mantissa </b> </td> </tr><tr> <td> Binary </td> <td>1</td> <td>00000000000</td> <td>0000000000000000000000000000000000000000000000000000</td> <td></td> </tr><tr> <td> Integer </td> <td>   -1 </td> <td>    -1023 </td> <td>                                                   0 </td> </tr><tr> <td> Power </td> <td> -1 </td> <td> 2<sup>-1023</sup> </td> <td>  0.0 </td> </tr><tr> <td> = </td> <td> -1  </td> <td> 1.11e-308 </td> <td> 0.0 </td> </tr><tr><td></td></tr><tr> <td> Float </td> <td colspan=\"2\"> -0.00000000000000000000 </td><td> -0.00e+00 </td> </tr></table>"
     },
     "metadata": {}
    }
   ],
   "source": [
    "print_float_html(-0.0) # this has the sign bit set"
   ]
  },
  {
   "cell_type": "code",
   "execution_count": 28,
   "metadata": {},
   "outputs": [
    {
     "output_type": "execute_result",
     "data": {
      "text/plain": [
       "True"
      ]
     },
     "metadata": {},
     "execution_count": 28
    }
   ],
   "source": [
    "0.0 == -0.0"
   ]
  },
  {
   "cell_type": "code",
   "execution_count": 29,
   "metadata": {},
   "outputs": [
    {
     "output_type": "execute_result",
     "data": {
      "text/plain": [
       "False"
      ]
     },
     "metadata": {},
     "execution_count": 29
    }
   ],
   "source": [
    "-0.0 < 0.0 "
   ]
  },
  {
   "cell_type": "code",
   "execution_count": 30,
   "metadata": {},
   "outputs": [
    {
     "output_type": "execute_result",
     "data": {
      "text/plain": [
       "-0.0"
      ]
     },
     "metadata": {},
     "execution_count": 30
    }
   ],
   "source": [
    "2 * -0.0  # sign bit propagates"
   ]
  },
  {
   "cell_type": "code",
   "execution_count": 31,
   "metadata": {},
   "outputs": [
    {
     "output_type": "execute_result",
     "data": {
      "text/plain": [
       "0.0"
      ]
     },
     "metadata": {},
     "execution_count": 31
    }
   ],
   "source": [
    "0.0 * 2 # sign bit propagates"
   ]
  },
  {
   "cell_type": "markdown",
   "metadata": {},
   "source": [
    "### Infinity: +∞ and -∞\n",
    "\n",
    "IEEE 754 floating point numbers **explicitly** encode infinities. They do this using a bit pattern of all ones for the exponent, and all zeros for the mantissa. The sign bit indicates whether the number is positive or negative."
   ]
  },
  {
   "cell_type": "code",
   "execution_count": 32,
   "metadata": {},
   "outputs": [
    {
     "output_type": "display_data",
     "data": {
      "text/plain": "<IPython.core.display.HTML object>",
      "text/html": "<h3> inf / inf </h3><table width=\"100%\"> <tr> <td width=\"10%\"></td> <td width=\"5%\"> <b>  </b> </td> <td> <b>  </b> </td> <td> <b>  </b> </td> </tr><tr> <td width=\"5%\"> Raw  </td> <td colspan=\"3\"> 0|11111111111|0000000000000000000000000000000000000000000000000000 </td> </tr> <tr> <td width=\"5%\"> Hex </td> <td colspan=\"3\"> 00 00 00 00 00 00 F0 7F</td></tr><tr> <td width=\"10%\"></td> <td width=\"5%\"> <b> Sign </b> </td> <td> <b> Exp </b> </td> <td> <b> Mantissa </b> </td> </tr><tr> <td> Binary </td> <td>0</td> <td>11111111111</td> <td>0000000000000000000000000000000000000000000000000000</td> <td></td> </tr><tr> <td> Integer </td> <td>    1 </td> <td>     1024 </td> <td>                                                   0 </td> </tr><tr> <td> Power </td> <td> 1 </td> <td> inf/NaN </td> <td>  NaN </td> </tr><tr><td></td></tr><tr> <td> Float </td> <td colspan=\"2\"> inf </td><td> inf </td> </tr></table>"
     },
     "metadata": {}
    }
   ],
   "source": [
    "# np.inf is a constant equal to infinity\n",
    "print_float_html(np.inf)  # positive infinity"
   ]
  },
  {
   "cell_type": "code",
   "execution_count": 33,
   "metadata": {},
   "outputs": [
    {
     "output_type": "display_data",
     "data": {
      "text/plain": "<IPython.core.display.HTML object>",
      "text/html": "<h3> -inf / -inf </h3><table width=\"100%\"> <tr> <td width=\"10%\"></td> <td width=\"5%\"> <b>  </b> </td> <td> <b>  </b> </td> <td> <b>  </b> </td> </tr><tr> <td width=\"5%\"> Raw  </td> <td colspan=\"3\"> 1|11111111111|0000000000000000000000000000000000000000000000000000 </td> </tr> <tr> <td width=\"5%\"> Hex </td> <td colspan=\"3\"> 00 00 00 00 00 00 F0 FF</td></tr><tr> <td width=\"10%\"></td> <td width=\"5%\"> <b> Sign </b> </td> <td> <b> Exp </b> </td> <td> <b> Mantissa </b> </td> </tr><tr> <td> Binary </td> <td>1</td> <td>11111111111</td> <td>0000000000000000000000000000000000000000000000000000</td> <td></td> </tr><tr> <td> Integer </td> <td>   -1 </td> <td>     1024 </td> <td>                                                   0 </td> </tr><tr> <td> Power </td> <td> -1 </td> <td> inf/NaN </td> <td>  NaN </td> </tr><tr><td></td></tr><tr> <td> Float </td> <td colspan=\"2\"> -inf </td><td> -inf </td> </tr></table>"
     },
     "metadata": {}
    }
   ],
   "source": [
    "print_float_html(-np.inf)  # negative infinity"
   ]
  },
  {
   "cell_type": "code",
   "execution_count": 34,
   "metadata": {},
   "outputs": [
    {
     "output_type": "execute_result",
     "data": {
      "text/plain": [
       "inf"
      ]
     },
     "metadata": {},
     "execution_count": 34
    }
   ],
   "source": [
    "np.inf + 1 # infinity + anything = infinity"
   ]
  },
  {
   "cell_type": "code",
   "execution_count": 35,
   "metadata": {},
   "outputs": [
    {
     "output_type": "execute_result",
     "data": {
      "text/plain": [
       "inf"
      ]
     },
     "metadata": {},
     "execution_count": 35
    }
   ],
   "source": [
    "np.inf * 2 # same with other operations"
   ]
  },
  {
   "cell_type": "code",
   "execution_count": 36,
   "metadata": {},
   "outputs": [
    {
     "output_type": "execute_result",
     "data": {
      "text/plain": [
       "nan"
      ]
     },
     "metadata": {},
     "execution_count": 36
    }
   ],
   "source": [
    "np.inf * 0 # but infinity * 0  is undefined"
   ]
  },
  {
   "cell_type": "code",
   "execution_count": 37,
   "metadata": {},
   "outputs": [
    {
     "output_type": "execute_result",
     "data": {
      "text/plain": [
       "nan"
      ]
     },
     "metadata": {},
     "execution_count": 37
    }
   ],
   "source": [
    "np.inf / np.inf # as is infinity / infinity"
   ]
  },
  {
   "cell_type": "code",
   "execution_count": 38,
   "metadata": {},
   "outputs": [
    {
     "output_type": "execute_result",
     "data": {
      "text/plain": [
       "-inf"
      ]
     },
     "metadata": {},
     "execution_count": 38
    }
   ],
   "source": [
    "-1 * np.inf # infinity has a sign"
   ]
  },
  {
   "cell_type": "markdown",
   "metadata": {},
   "source": [
    "### NaN: 👵🏻"
   ]
  },
  {
   "cell_type": "markdown",
   "metadata": {
    "tags": [
     "nodist"
    ]
   },
   "source": [
    "<img src=\"imgs/wtfnan.jpg\">"
   ]
  },
  {
   "cell_type": "markdown",
   "metadata": {},
   "source": [
    "NaN or **Not A Number** is a particularly important special \"number\". NaN is used to represent values that are invalid; for example, the result of 0.0 / 0.0. All of the following result in NaN:\n",
    "* `0 / 0`\n",
    "* `inf / inf` (either positive or negative inf)\n",
    "* `inf - inf` or `inf + -inf`\n",
    "* `inf * 0` or  `0 * -inf`\n",
    "* `sqrt(x)`, if x<0\n",
    "* `log(x)`, if x<0\n",
    "* Any other operation that would have performed any of these calculations internally"
   ]
  },
  {
   "cell_type": "markdown",
   "metadata": {},
   "source": [
    "NaN has several properties:\n",
    "\n",
    "* it **propagates**: any floating point operation involving NaN has the output NaN.\n",
    "* any comparison with NaN evaluates to false. NaN is not equal to anything, **including itself**; nor is it greater than or lesser than any other number. It is the only floating point number not equal to itself.\n",
    "\n",
    "It is both used as the *output of operations* (to indicate where something has gone wrong), and deliberately as a *placeholder in arrays* (e.g. to signal missing data in a dataset). \n",
    "\n",
    "NaN has all ones exponent, but non-zero mantissa. Note that this means there is *not* a unique bit pattern for NaN. There are $2^{52}-1$ different NaNs in `float64` for example, all of which behave the same."
   ]
  },
  {
   "cell_type": "code",
   "execution_count": 39,
   "metadata": {},
   "outputs": [
    {
     "output_type": "display_data",
     "data": {
      "text/plain": "<IPython.core.display.HTML object>",
      "text/html": "<h3> nan / nan </h3><table width=\"100%\"> <tr> <td width=\"10%\"></td> <td width=\"5%\"> <b>  </b> </td> <td> <b>  </b> </td> <td> <b>  </b> </td> </tr><tr> <td width=\"5%\"> Raw  </td> <td colspan=\"3\"> 0|11111111111|1000000000000000000000000000000000000000000000000000 </td> </tr> <tr> <td width=\"5%\"> Hex </td> <td colspan=\"3\"> 00 00 00 00 00 00 F8 7F</td></tr><tr> <td width=\"10%\"></td> <td width=\"5%\"> <b> Sign </b> </td> <td> <b> Exp </b> </td> <td> <b> Mantissa </b> </td> </tr><tr> <td> Binary </td> <td>0</td> <td>11111111111</td> <td>1000000000000000000000000000000000000000000000000000</td> <td></td> </tr><tr> <td> Integer </td> <td>    1 </td> <td>     1024 </td> <td>                                    2251799813685248 </td> </tr><tr> <td> Power </td> <td> 1 </td> <td> inf/NaN </td> <td>  NaN </td> </tr><tr><td></td></tr><tr> <td> Float </td> <td colspan=\"2\"> nan </td><td> nan </td> </tr></table>"
     },
     "metadata": {}
    }
   ],
   "source": [
    "# np.nan is a constant equal to nan\n",
    "print_float_html(np.nan) "
   ]
  },
  {
   "cell_type": "code",
   "execution_count": 40,
   "metadata": {},
   "outputs": [
    {
     "output_type": "stream",
     "name": "stdout",
     "text": [
      "nan\n"
     ]
    }
   ],
   "source": [
    "print(np.nan * 5) # nan propagates"
   ]
  },
  {
   "cell_type": "code",
   "execution_count": 41,
   "metadata": {},
   "outputs": [
    {
     "output_type": "stream",
     "name": "stdout",
     "text": [
      "nan\n"
     ]
    }
   ],
   "source": [
    "print(np.sin(np.nan)) # every operation involving nan evaluates to nan"
   ]
  },
  {
   "cell_type": "code",
   "execution_count": 42,
   "metadata": {},
   "outputs": [
    {
     "output_type": "stream",
     "name": "stdout",
     "text": [
      "False\n"
     ]
    }
   ],
   "source": [
    "print(np.nan>5)   # comparisons are always false"
   ]
  },
  {
   "cell_type": "code",
   "execution_count": 43,
   "metadata": {},
   "outputs": [
    {
     "output_type": "stream",
     "name": "stdout",
     "text": [
      "False\n"
     ]
    }
   ],
   "source": [
    "print(np.nan==np.nan)   # comparisons are always false, even equality to itself!"
   ]
  },
  {
   "cell_type": "markdown",
   "metadata": {},
   "source": [
    "`np.isnan(a)` tests if an array has `nan` in it (and is exactly the same as `a!=a`, because of NaN's comparison property)"
   ]
  },
  {
   "cell_type": "code",
   "execution_count": 44,
   "metadata": {},
   "outputs": [
    {
     "output_type": "stream",
     "name": "stdout",
     "text": [
      "[ 1. nan inf]\n",
      "<ipython-input-44-cd86a7bdcaf3>:3: RuntimeWarning: divide by zero encountered in true_divide\n",
      "  quot = num/den\n",
      "<ipython-input-44-cd86a7bdcaf3>:3: RuntimeWarning: invalid value encountered in true_divide\n",
      "  quot = num/den\n"
     ]
    }
   ],
   "source": [
    "num = np.array([1,0,1])\n",
    "den = np.array([1,0,0])\n",
    "quot = num/den\n",
    "print(quot)"
   ]
  },
  {
   "cell_type": "code",
   "execution_count": 45,
   "metadata": {},
   "outputs": [
    {
     "output_type": "stream",
     "name": "stdout",
     "text": [
      "[False  True False]\n"
     ]
    }
   ],
   "source": [
    "print(np.isnan(quot))"
   ]
  },
  {
   "cell_type": "code",
   "execution_count": 46,
   "metadata": {},
   "outputs": [
    {
     "output_type": "stream",
     "name": "stdout",
     "text": [
      "[False  True False]\n"
     ]
    }
   ],
   "source": [
    "print(quot!=quot)"
   ]
  },
  {
   "cell_type": "markdown",
   "metadata": {},
   "source": [
    "#### NaN as a result\n",
    "It is very common experience to write some numerical code, and discover that the result is just NaN. This is because NaN propagates -- once it \"infects\" some numerical process, it will spread to all future calculations. This makes sense, since NaN indicates that no useful operation can be done. However, it can be a frustrating experience to debug NaN sources. \n",
    "\n",
    "The most common cause is **underflow** rounding a number to 0 or **overflow** rounding a number to +/-`inf`, which then gets used in one of the \"blacklisted\" operations."
   ]
  },
  {
   "cell_type": "code",
   "execution_count": 47,
   "metadata": {},
   "outputs": [
    {
     "output_type": "stream",
     "name": "stdout",
     "text": [
      "[-0.36476128  0.06436397 -0.08444687 -0.18324859 -0.52668955 -0.21508761\n  0.81530589  0.75993536  1.14725157  0.82003299  0.56058779  0.20393174\n  0.44189977  0.36017944  0.25537097 -0.03467975  0.93301557  1.72146786\n  2.9231719   2.73437164  2.54167632  2.19840201  2.52309112  2.25323092\n  2.2273101   1.86440126  1.66015487  1.35050342  1.60196484  1.629987\n  1.27359909  1.30278349  1.20580212  1.42207983  2.21287807  2.16917386\n  2.20411511  2.67367638  2.40327344  2.67846113  2.67411566  2.30637871\n  2.06275923  1.93478776  2.50471392  2.17544946  1.95316767  2.08148551\n  1.83432016  2.36600453  3.91335182  3.89987075  4.40830379  4.27695041\n  5.19618367  5.5969469   5.89089928  7.116452    8.05305812  7.79659401\n  7.82331421  7.93428288  8.94362475  9.16921903  9.13611475  9.08091888\n  9.90693551 10.13767111  9.77685311  9.53083452  9.40536274  9.39877868\n  9.25799839  9.53462818  9.5551017   9.39927387  9.58463864  9.34182952\n  9.49962763  9.21152289  9.35819024  9.39440794 10.29135917 11.04369508\n 10.74330185 11.4639567  11.25917785 11.3851357  11.37680867 11.91209081\n 12.38297328 12.15709557 11.79882077 11.44288689 11.49486963 11.70935959\n 11.78780191 12.60032577 12.30831746 12.16414346]\n"
     ]
    }
   ],
   "source": [
    "x = np.random.normal(1,0.4,100)\n",
    "print(np.cumsum(x * np.log(x)))"
   ]
  },
  {
   "cell_type": "markdown",
   "metadata": {},
   "source": [
    "#### NaN as a mask\n",
    "Sometimes NaN is used to mask parts of arrays that have missing data. While there is specialised support for masked arrays in some languages/packages, NaNs are available everywhere and don't require any special storage or data structures.\n",
    "\n",
    "For example, plotting data with NaN's in it results in gaps:\n",
    "\n"
   ]
  },
  {
   "cell_type": "code",
   "execution_count": 48,
   "metadata": {},
   "outputs": [
    {
     "output_type": "execute_result",
     "data": {
      "text/plain": [
       "Text(0, 0.5, 'Price')"
      ]
     },
     "metadata": {},
     "execution_count": 48
    },
    {
     "output_type": "display_data",
     "data": {
      "text/plain": "<Figure size 1120x560 with 1 Axes>",
      "image/png": "[encoded data removed]"
     },
     "metadata": {
      "needs_background": "light"
     }
    }
   ],
   "source": [
    "year = [1978, 1979, 1980, 1981, 1982, 1983, 1984]\n",
    "price = [5.0, 4.9, 5.2, np.nan, np.nan, 8.9, 9.25]   # no data for 1981 or 1982\n",
    "\n",
    "fig = plt.figure()\n",
    "ax = fig.add_subplot(1,1,1)\n",
    "ax.plot(year, price, '-o')\n",
    "ax.set_xlabel(\"Year\")\n",
    "ax.set_ylabel(\"Price\")"
   ]
  },
  {
   "cell_type": "markdown",
   "metadata": {},
   "source": [
    "## Roundoff and precision\n",
    "Floating point operations can introduce **roundoff error**, because the operations involved have to quantize the results of computations. This can be subtle, because the precision of floating point numbers is variable according to their magnitude; unlike integers, where roundoff is always to the nearest whole number.\n",
    "\n",
    "<img src=\"imgs/ieee754.png\">\n",
    "*[By Ghennessey - Own work, CC BY-SA 4.0, https://commons.wikimedia.org/w/index.php?curid=35324110]*"
   ]
  },
  {
   "cell_type": "markdown",
   "metadata": {},
   "source": [
    "### If you take a standard deviation of a collection of values, does it matter if the values are stored?"
   ]
  },
  {
   "cell_type": "code",
   "execution_count": 49,
   "metadata": {},
   "outputs": [
    {
     "output_type": "stream",
     "name": "stdout",
     "text": [
      "2773864549795088384.00000\n2773864549795088384.00000\n2773864549795088896.00000\n"
     ]
    }
   ],
   "source": [
    "import numpy as np\n",
    "x = np.exp(np.random.uniform(-35,45,10000))\n",
    "x_sorted = np.sort(x)\n",
    "print(\"%.5f\" % np.std(x))\n",
    "print(\"%.5f\" % np.std(x_sorted))\n",
    "\n",
    "## a terrible order\n",
    "## alternating largest and smallest\n",
    "x_bad = np.stack([x_sorted[:len(x)//2], x_sorted[len(x)//2:][::-1]]).T.ravel()\n",
    "print(\"%.5f\" % np.std(x_bad))"
   ]
  },
  {
   "cell_type": "markdown",
   "metadata": {},
   "source": [
    "### Round off problems"
   ]
  },
  {
   "cell_type": "code",
   "execution_count": 50,
   "metadata": {},
   "outputs": [
    {
     "output_type": "display_data",
     "data": {
      "text/plain": "<IPython.core.display.HTML object>",
      "text/html": "<h3> 1.00009999999999998899 / 1.00e+00 </h3><table width=\"100%\"> <tr> <td width=\"10%\"></td> <td width=\"5%\"> <b>  </b> </td> <td> <b>  </b> </td> <td> <b>  </b> </td> </tr><tr> <td width=\"5%\"> Raw  </td> <td colspan=\"3\"> 0|01111111111|0000000000000110100011011011100010111010110001110001 </td> </tr> <tr> <td width=\"5%\"> Hex </td> <td colspan=\"3\"> 71 AC 8B DB 68 00 F0 3F</td></tr><tr> <td width=\"10%\"></td> <td width=\"5%\"> <b> Sign </b> </td> <td> <b> Exp </b> </td> <td> <b> Mantissa </b> </td> </tr><tr> <td> Binary </td> <td>0</td> <td>01111111111</td> <td>0000000000000110100011011011100010111010110001110001</td> <td></td> </tr><tr> <td> Integer </td> <td>    1 </td> <td>        0 </td> <td>                                        450359962737 </td> </tr><tr> <td> Power </td> <td> 1 </td> <td> 2<sup>0</sup> </td> <td>  1.0001 </td> </tr><tr> <td> = </td> <td> 1  </td> <td> 1.00e+00 </td> <td> 1.0001 </td> </tr><tr><td></td></tr><tr> <td> Float </td> <td colspan=\"2\"> 1.00009999999999998899 </td><td> 1.00e+00 </td> </tr></table>"
     },
     "metadata": {}
    },
    {
     "output_type": "display_data",
     "data": {
      "text/plain": "<IPython.core.display.HTML object>",
      "text/html": "<h3> 1.00000000999999993923 / 1.00e+00 </h3><table width=\"100%\"> <tr> <td width=\"10%\"></td> <td width=\"5%\"> <b>  </b> </td> <td> <b>  </b> </td> <td> <b>  </b> </td> </tr><tr> <td width=\"5%\"> Raw  </td> <td colspan=\"3\"> 0|01111111111|0000000000000000000000000010101011110011000111011100 </td> </tr> <tr> <td width=\"5%\"> Hex </td> <td colspan=\"3\"> DC 31 AF 02 00 00 F0 3F</td></tr><tr> <td width=\"10%\"></td> <td width=\"5%\"> <b> Sign </b> </td> <td> <b> Exp </b> </td> <td> <b> Mantissa </b> </td> </tr><tr> <td> Binary </td> <td>0</td> <td>01111111111</td> <td>0000000000000000000000000010101011110011000111011100</td> <td></td> </tr><tr> <td> Integer </td> <td>    1 </td> <td>        0 </td> <td>                                            45035996 </td> </tr><tr> <td> Power </td> <td> 1 </td> <td> 2<sup>0</sup> </td> <td>  1.00000001 </td> </tr><tr> <td> = </td> <td> 1  </td> <td> 1.00e+00 </td> <td> 1.00000001 </td> </tr><tr><td></td></tr><tr> <td> Float </td> <td colspan=\"2\"> 1.00000000999999993923 </td><td> 1.00e+00 </td> </tr></table>"
     },
     "metadata": {}
    },
    {
     "output_type": "display_data",
     "data": {
      "text/plain": "<IPython.core.display.HTML object>",
      "text/html": "<h3> 1.00000000000000000000 / 1.00e+00 </h3><table width=\"100%\"> <tr> <td width=\"10%\"></td> <td width=\"5%\"> <b>  </b> </td> <td> <b>  </b> </td> <td> <b>  </b> </td> </tr><tr> <td width=\"5%\"> Raw  </td> <td colspan=\"3\"> 0|01111111111|0000000000000000000000000000000000000000000000000000 </td> </tr> <tr> <td width=\"5%\"> Hex </td> <td colspan=\"3\"> 00 00 00 00 00 00 F0 3F</td></tr><tr> <td width=\"10%\"></td> <td width=\"5%\"> <b> Sign </b> </td> <td> <b> Exp </b> </td> <td> <b> Mantissa </b> </td> </tr><tr> <td> Binary </td> <td>0</td> <td>01111111111</td> <td>0000000000000000000000000000000000000000000000000000</td> <td></td> </tr><tr> <td> Integer </td> <td>    1 </td> <td>        0 </td> <td>                                                   0 </td> </tr><tr> <td> Power </td> <td> 1 </td> <td> 2<sup>0</sup> </td> <td>  1.0 </td> </tr><tr> <td> = </td> <td> 1  </td> <td> 1.00e+00 </td> <td> 1.0 </td> </tr><tr><td></td></tr><tr> <td> Float </td> <td colspan=\"2\"> 1.00000000000000000000 </td><td> 1.00e+00 </td> </tr></table>"
     },
     "metadata": {}
    }
   ],
   "source": [
    "print_float_html(1.0 + 1e-4) # ok\n",
    "print_float_html(1.0 + 1e-8) # ok\n",
    "print_float_html(1.0 + 1e-16) # exactly equal to one"
   ]
  },
  {
   "cell_type": "code",
   "execution_count": 51,
   "metadata": {},
   "outputs": [
    {
     "output_type": "display_data",
     "data": {
      "text/plain": "<IPython.core.display.HTML object>",
      "text/html": "<h3> 1000000000.00010001659393310547 / 1.00e+09 </h3><table width=\"100%\"> <tr> <td width=\"10%\"></td> <td width=\"5%\"> <b>  </b> </td> <td> <b>  </b> </td> <td> <b>  </b> </td> </tr><tr> <td width=\"5%\"> Raw  </td> <td colspan=\"3\"> 0|10000011100|1101110011010110010100000000000000000000001101000111 </td> </tr> <tr> <td width=\"5%\"> Hex </td> <td colspan=\"3\"> 47 03 00 00 65 CD CD 41</td></tr><tr> <td width=\"10%\"></td> <td width=\"5%\"> <b> Sign </b> </td> <td> <b> Exp </b> </td> <td> <b> Mantissa </b> </td> </tr><tr> <td> Binary </td> <td>0</td> <td>10000011100</td> <td>1101110011010110010100000000000000000000001101000111</td> <td></td> </tr><tr> <td> Integer </td> <td>    1 </td> <td>       29 </td> <td>                                    3885008372630343 </td> </tr><tr> <td> Power </td> <td> 1 </td> <td> 2<sup>29</sup> </td> <td>  1.8626451492311433 </td> </tr><tr> <td> = </td> <td> 1  </td> <td> 5.37e+08 </td> <td> 1.8626451492311433 </td> </tr><tr><td></td></tr><tr> <td> Float </td> <td colspan=\"2\"> 1000000000.00010001659393310547 </td><td> 1.00e+09 </td> </tr></table>"
     },
     "metadata": {}
    },
    {
     "output_type": "display_data",
     "data": {
      "text/plain": "<IPython.core.display.HTML object>",
      "text/html": "<h3> 1000000000.00000000000000000000 / 1.00e+09 </h3><table width=\"100%\"> <tr> <td width=\"10%\"></td> <td width=\"5%\"> <b>  </b> </td> <td> <b>  </b> </td> <td> <b>  </b> </td> </tr><tr> <td width=\"5%\"> Raw  </td> <td colspan=\"3\"> 0|10000011100|1101110011010110010100000000000000000000000000000000 </td> </tr> <tr> <td width=\"5%\"> Hex </td> <td colspan=\"3\"> 00 00 00 00 65 CD CD 41</td></tr><tr> <td width=\"10%\"></td> <td width=\"5%\"> <b> Sign </b> </td> <td> <b> Exp </b> </td> <td> <b> Mantissa </b> </td> </tr><tr> <td> Binary </td> <td>0</td> <td>10000011100</td> <td>1101110011010110010100000000000000000000000000000000</td> <td></td> </tr><tr> <td> Integer </td> <td>    1 </td> <td>       29 </td> <td>                                    3885008372629504 </td> </tr><tr> <td> Power </td> <td> 1 </td> <td> 2<sup>29</sup> </td> <td>  1.862645149230957 </td> </tr><tr> <td> = </td> <td> 1  </td> <td> 5.37e+08 </td> <td> 1.862645149230957 </td> </tr><tr><td></td></tr><tr> <td> Float </td> <td colspan=\"2\"> 1000000000.00000000000000000000 </td><td> 1.00e+09 </td> </tr></table>"
     },
     "metadata": {}
    },
    {
     "output_type": "display_data",
     "data": {
      "text/plain": "<IPython.core.display.HTML object>",
      "text/html": "<h3> 1000000000.00000000000000000000 / 1.00e+09 </h3><table width=\"100%\"> <tr> <td width=\"10%\"></td> <td width=\"5%\"> <b>  </b> </td> <td> <b>  </b> </td> <td> <b>  </b> </td> </tr><tr> <td width=\"5%\"> Raw  </td> <td colspan=\"3\"> 0|10000011100|1101110011010110010100000000000000000000000000000000 </td> </tr> <tr> <td width=\"5%\"> Hex </td> <td colspan=\"3\"> 00 00 00 00 65 CD CD 41</td></tr><tr> <td width=\"10%\"></td> <td width=\"5%\"> <b> Sign </b> </td> <td> <b> Exp </b> </td> <td> <b> Mantissa </b> </td> </tr><tr> <td> Binary </td> <td>0</td> <td>10000011100</td> <td>1101110011010110010100000000000000000000000000000000</td> <td></td> </tr><tr> <td> Integer </td> <td>    1 </td> <td>       29 </td> <td>                                    3885008372629504 </td> </tr><tr> <td> Power </td> <td> 1 </td> <td> 2<sup>29</sup> </td> <td>  1.862645149230957 </td> </tr><tr> <td> = </td> <td> 1  </td> <td> 5.37e+08 </td> <td> 1.862645149230957 </td> </tr><tr><td></td></tr><tr> <td> Float </td> <td colspan=\"2\"> 1000000000.00000000000000000000 </td><td> 1.00e+09 </td> </tr></table>"
     },
     "metadata": {}
    }
   ],
   "source": [
    "print_float_html(1e9 + 1e-4) # ok\n",
    "print_float_html(1e9 + 1e-8) # exactly equal to 1e9\n",
    "print_float_html(1e9 + 1e-16) # exactly equal to 1e9"
   ]
  },
  {
   "cell_type": "markdown",
   "metadata": {},
   "source": [
    "#### Repeated operations\n",
    "This can be a real problem when doing repeated operations. Imagine adding dividends to a bank account every second (real time banking!)"
   ]
  },
  {
   "cell_type": "code",
   "execution_count": 52,
   "metadata": {},
   "outputs": [],
   "source": [
    "balance = 100000000000 # Bill Gates' account\n",
    "\n",
    "def accumulate_wealth(starting_balance, dividend_per_second, dtype=np.float64):\n",
    "    balance = np.array(starting_balance, dtype=dtype)\n",
    "    dividend_per_second = np.array(dividend_per_second, dtype=dtype)    \n",
    "    seconds_in_month = 24*60*60*30\n",
    "    # run one month's calculation\n",
    "    for i in range(seconds_in_month):\n",
    "        balance = balance + dividend_per_second\n",
    "    \n",
    "    print(\"Apparently earned: $%.2f\" % (balance - starting_balance))\n",
    "    print(\"Should have earned: $%.2f\" % (seconds_in_month * dividend_per_second))  "
   ]
  },
  {
   "cell_type": "code",
   "execution_count": 53,
   "metadata": {},
   "outputs": [
    {
     "output_type": "stream",
     "name": "stdout",
     "text": [
      "Apparently earned: $39.55\n",
      "Should have earned: $25.92\n",
      "Exiting...\n"
     ]
    }
   ],
   "source": [
    "accumulate_wealth(balance, 0.00001) # got almost twice as much as it should have!"
   ]
  },
  {
   "cell_type": "code",
   "execution_count": 54,
   "metadata": {},
   "outputs": [
    {
     "output_type": "stream",
     "name": "stdout",
     "text": [
      "Apparently earned: $0.00\nShould have earned: $2.59\n"
     ]
    }
   ],
   "source": [
    "accumulate_wealth(balance, 0.000001) # got nothing at all"
   ]
  },
  {
   "cell_type": "code",
   "execution_count": 55,
   "metadata": {},
   "outputs": [
    {
     "output_type": "stream",
     "name": "stdout",
     "text": [
      "Apparently earned: $-2048.00\nShould have earned: $25920.00\n"
     ]
    }
   ],
   "source": [
    "accumulate_wealth(balance, 0.01, dtype=np.float32)  # apparently lost money! (original balance wasn't exact in float32)"
   ]
  },
  {
   "cell_type": "markdown",
   "metadata": {},
   "source": [
    "#### Financial operations\n",
    "Moral of the story: **Never** use floating point operations for financial calculations. Use decimal formats, with precisely defined roundoff rules (if roundoff can occur) for financial operations."
   ]
  },
  {
   "cell_type": "markdown",
   "metadata": {},
   "source": [
    "### Roundoff error\n",
    "While this might seem an unlikely scenario, adding repeated tiny offsets to enormous values is exactly the kind of thing that happens in lots of simulations; for example, plotting the trajectory of a satellite with small forces from solar wind acting upon it.\n",
    "\n",
    "The ordering of operations can be important, with the general rule being to avoid operations of numbers of wildly different magnitudes. \n",
    "**This means, in some extreme cases, that the distributive and associative rules don't apply to floating point numbers!**"
   ]
  },
  {
   "cell_type": "code",
   "execution_count": 56,
   "metadata": {},
   "outputs": [
    {
     "output_type": "execute_result",
     "data": {
      "text/plain": [
       "0.0"
      ]
     },
     "metadata": {},
     "execution_count": 56
    }
   ],
   "source": [
    "(1.e30 + 1.) - 1.e30 # wrong, severe roundoff error"
   ]
  },
  {
   "cell_type": "code",
   "execution_count": 57,
   "metadata": {},
   "outputs": [
    {
     "output_type": "execute_result",
     "data": {
      "text/plain": [
       "1.0"
      ]
     },
     "metadata": {},
     "execution_count": 57
    }
   ],
   "source": [
    "(1.e30 - 1.e30) + 1. # no roundoff error"
   ]
  },
  {
   "cell_type": "markdown",
   "metadata": {},
   "source": [
    "Some basic rules:\n",
    "1. `x+y` will have large error if x and y have different magnitudes (magnitude error)\n",
    "1. `x/y` will have large error if `y` is very small (division magnification)\n",
    "1. `x-y` will have large error if `x~=y` (cancellation error)"
   ]
  },
  {
   "cell_type": "code",
   "execution_count": 58,
   "metadata": {},
   "outputs": [
    {
     "output_type": "stream",
     "name": "stdout",
     "text": [
      "Addition\n2.0\n1e+300\nSubtraction\n-200.0\n0.0\n"
     ]
    }
   ],
   "source": [
    "print(\"Addition\")\n",
    "print(1.0 + 1.0) # ok\n",
    "print(1.0 + 1e300) # bad, rule 1\n",
    "print(\"Subtraction\")\n",
    "print(1000.0 - 1200.0) # ok\n",
    "print(1000.0 - 1000.00000000000001) # bad, rule 4"
   ]
  },
  {
   "cell_type": "markdown",
   "metadata": {},
   "source": [
    "### Allclose\n",
    "Because of the roundoff errors in floating point numbers, whenever there are comparisons to be made between floating point numbers, it is not appropriate to test for precise equality. This code snippet illustrates the problem:"
   ]
  },
  {
   "cell_type": "code",
   "execution_count": 59,
   "metadata": {},
   "outputs": [
    {
     "output_type": "stream",
     "name": "stdout",
     "text": [
      "False\n-2.3283069916502086e-11\n"
     ]
    }
   ],
   "source": [
    "y = 0.1\n",
    "z = 300000.0\n",
    "x = y \n",
    "x = x + z\n",
    "x = x - z\n",
    "\n",
    "# x==y, right?\n",
    "print(x==y)\n",
    "print(x-y)"
   ]
  },
  {
   "cell_type": "code",
   "execution_count": 60,
   "metadata": {},
   "outputs": [
    {
     "output_type": "stream",
     "name": "stdout",
     "text": [
      "-0.1\n0.0\n"
     ]
    }
   ],
   "source": [
    "# sometimes the error can be quite extreme, if we have a small value and a large value in one operation\n",
    "x = y + z * z * z\n",
    "x = x - z * z * z\n",
    "print(x-y)\n",
    "print(x)  ## uh oh, x has become 0!"
   ]
  },
  {
   "cell_type": "markdown",
   "metadata": {},
   "source": [
    "Instead, we **must** always compare floating point numbers by determining if their absolute difference is less than some threshold:\n",
    "$$|x-y|<\\epsilon$$"
   ]
  },
  {
   "cell_type": "code",
   "execution_count": 61,
   "metadata": {},
   "outputs": [
    {
     "output_type": "stream",
     "name": "stdout",
     "text": [
      "True\n"
     ]
    }
   ],
   "source": [
    "y = 0.1\n",
    "z = 300000.0\n",
    "x = y \n",
    "x = x + z\n",
    "x = x - z\n",
    "\n",
    "eps = 1e-8 # this threshold is often called epsilon but is not the same as machine epsilon!\n",
    "\n",
    "# (1e-8 is not universal, but often reasonable for float64)\n",
    "# in practice, the choice of epsilon will depend on the application and the operations performed\n",
    "print(abs(x-y)<1e-8)"
   ]
  },
  {
   "cell_type": "markdown",
   "metadata": {},
   "source": [
    "Testing if all elements of two arrays are within some tolerance is a standard array operation, which NumPy calls `np.allclose(x,y)`."
   ]
  },
  {
   "cell_type": "code",
   "execution_count": 62,
   "metadata": {},
   "outputs": [
    {
     "output_type": "stream",
     "name": "stdout",
     "text": [
      "True\n"
     ]
    }
   ],
   "source": [
    "print(np.allclose(x,y)) "
   ]
  },
  {
   "cell_type": "code",
   "execution_count": 63,
   "metadata": {},
   "outputs": [
    {
     "output_type": "stream",
     "name": "stdout",
     "text": [
      "[[False False False False False False False False]\n [False False False False False False False False]\n [False False False False False False False False]\n [False False False False False False False False]\n [False False False False False False False False]\n [False False False False False False False False]\n [False False False False False False False False]\n [False False False False False False False False]]\n"
     ]
    }
   ],
   "source": [
    "x = np.full((8,8), 33341331514515.110)\n",
    "y = np.full((8,8), 7452.15415)\n",
    "z = (x*y*y*y) / (y*y*y)\n",
    "print(x==z)"
   ]
  },
  {
   "cell_type": "code",
   "execution_count": 64,
   "metadata": {},
   "outputs": [
    {
     "output_type": "stream",
     "name": "stdout",
     "text": [
      "False\n"
     ]
    }
   ],
   "source": [
    "print(np.all(x==z))"
   ]
  },
  {
   "cell_type": "code",
   "execution_count": 65,
   "metadata": {},
   "outputs": [
    {
     "output_type": "stream",
     "name": "stdout",
     "text": [
      "True\n"
     ]
    }
   ],
   "source": [
    "print(np.allclose(x,z))"
   ]
  },
  {
   "cell_type": "markdown",
   "metadata": {},
   "source": [
    "**NEVER USE EQUALITY ON FLOATING POINT VALUES OR ARRAYS!** (unless you are explicitly testing for roundoff error and know what you are doing)\n",
    "\n",
    "### Machine precision and $\\epsilon$\n",
    "Just how bad (or good) are floating point numbers at representing real numbers within their range? How close is $\\text{float}(\\pi)$ to $\\pi$?\n",
    "\n",
    "Floating point representations have a **relative error**, defined by:\n",
    "$$\n",
    "\\epsilon = \\frac{|\\text{float}(x)-x|}{|x|}, \\examinable\n",
    "$$\n",
    "the absolute difference between a floating point number and its real counterpart, normalised by the magnitude of the real number.\n",
    "\n",
    "IEEE 754 guarantees that this error is always less than\n",
    "$$\n",
    "\\epsilon \\leq \\frac{1}{2}2^{-t}, \\epsilon \\leq 2^{-t-1},  \\examinable\n",
    "$$\n",
    "where $t$ is the number of bits dedicated to the mantissa, excluding the implied 1.\n",
    "\n",
    "This guarantee applies to both *storage* of numbers (the relative error will never be greater than $\\epsilon$) and to *operations* on numbers (that roundoff error in computations will be have relative error $<\\epsilon$).\n",
    "\n",
    "For `float64`, $\\epsilon=2^{-53} \\approx 1.1\\times 10^{16}$."
   ]
  },
  {
   "cell_type": "code",
   "execution_count": 66,
   "metadata": {},
   "outputs": [
    {
     "output_type": "stream",
     "name": "stdout",
     "text": [
      "Machine parameters for float64\n---------------------------------------------------------------\nprecision =  15   resolution = 1.0000000000000001e-15\nmachep =    -52   eps =        2.2204460492503131e-16\nnegep =     -53   epsneg =     1.1102230246251565e-16\nminexp =  -1022   tiny =       2.2250738585072014e-308\nmaxexp =   1024   max =        1.7976931348623157e+308\nnexp =       11   min =        -max\n---------------------------------------------------------------\n\n"
     ]
    }
   ],
   "source": [
    "# we can ask NumPy to print these statistics for us\n",
    "# note the epsilon term epsneg\n",
    "print(np.finfo(np.float64))"
   ]
  },
  {
   "cell_type": "code",
   "execution_count": 67,
   "metadata": {},
   "outputs": [
    {
     "output_type": "execute_result",
     "data": {
      "text/plain": [
       "1.1102230246251565e-16"
      ]
     },
     "metadata": {},
     "execution_count": 67
    }
   ],
   "source": [
    "# check this is indeed the value we expect to see\n",
    "t = 52\n",
    "2.0**(-t-1)"
   ]
  },
  {
   "cell_type": "markdown",
   "metadata": {},
   "source": [
    "## NumPy types\n",
    "Unless you specify a different type (e.g. with `dtype=` when calling `np.array` or `np.zeros`, etc.), arrays will be `float64` if they have any floating point value when created, and `int32` otherwise.\n",
    "\n",
    "An array can be converted using `.astype()`, which will convert the array elements to the specified type."
   ]
  },
  {
   "cell_type": "markdown",
   "metadata": {},
   "source": [
    "x = np.array([1,2,3]) # no floats, this will be int32\n",
    "print(x.dtype)"
   ]
  },
  {
   "cell_type": "code",
   "execution_count": 68,
   "metadata": {},
   "outputs": [
    {
     "output_type": "stream",
     "name": "stdout",
     "text": [
      "int8\n"
     ]
    }
   ],
   "source": [
    "x = np.array([1,2,3], dtype=np.int8) # force to int8\n",
    "print(x.dtype)"
   ]
  },
  {
   "cell_type": "code",
   "execution_count": 69,
   "metadata": {},
   "outputs": [
    {
     "output_type": "stream",
     "name": "stdout",
     "text": [
      "float64\n"
     ]
    }
   ],
   "source": [
    "y = np.array([1.0, 2, 3])  # at least one float, will be float64\n",
    "print(y.dtype)"
   ]
  },
  {
   "cell_type": "code",
   "execution_count": 70,
   "metadata": {},
   "outputs": [
    {
     "output_type": "stream",
     "name": "stdout",
     "text": [
      "float64\n[1. 2. 3.]\n"
     ]
    }
   ],
   "source": [
    "x_float = x.astype(np.float64)\n",
    "print(x_float.dtype)\n",
    "print(x_float)"
   ]
  },
  {
   "cell_type": "code",
   "execution_count": 71,
   "metadata": {},
   "outputs": [
    {
     "output_type": "stream",
     "name": "stdout",
     "text": [
      "float32\n[1. 2. 3.]\n"
     ]
    }
   ],
   "source": [
    "x_float32 = x.astype(np.float32)\n",
    "print(x_float32.dtype)\n",
    "print(x_float32)"
   ]
  },
  {
   "cell_type": "markdown",
   "metadata": {},
   "source": [
    "# Resources for this lecture\n",
    "* **From Python to Numpy** http://www.labri.fr/perso/nrougier/from-python-to-numpy/ *recommended reading*\n",
    "\n",
    "---"
   ]
  },
  {
   "cell_type": "markdown",
   "metadata": {},
   "source": [
    "* **Floating point numbers** http://pmihaylov.com/floating-point-numbers/ (floats)\n",
    "* **What Every Computer Scientist Should Know About Floating Point Numbers** http://docs.oracle.com/cd/E19957-01/806-3568/ncg_goldberg.html\n",
    "\n",
    "## Advanced (beyond this course)\n",
    "* **Advanced NumPy** http://www.scipy-lectures.org/advanced/advanced_numpy/\n",
    "* **NumPy tricks** http://arogozhnikov.github.io/2015/09/30/NumpyTipsAndTricks2.html and http://arogozhnikov.github.io/2015/09/29/NumpyTipsAndTricks1.html"
   ]
  }
 ],
 "metadata": {
  "celltoolbar": "Tags",
  "kernelspec": {
   "name": "python388jvsc74a57bd083ad9dc287f1bd68e1373a062e5fec25449c786b53be0804b995b765c2d61fc9",
   "display_name": "Python 3.8.8 64-bit (conda)"
  },
  "language_info": {
   "codemirror_mode": {
    "name": "ipython",
    "version": 3
   },
   "file_extension": ".py",
   "mimetype": "text/x-python",
   "name": "python",
   "nbconvert_exporter": "python",
   "pygments_lexer": "ipython3",
   "version": "3.8.8-final"
  },
  "toc": {
   "nav_menu": {},
   "number_sections": true,
   "sideBar": true,
   "skip_h1_title": false,
   "toc_cell": false,
   "toc_position": {},
   "toc_section_display": "block",
   "toc_window_display": false
  }
 },
 "nbformat": 4,
 "nbformat_minor": 2
}