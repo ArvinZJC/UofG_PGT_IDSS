{
 "cells": [
  {
   "cell_type": "markdown",
   "metadata": {
    "deletable": false,
    "editable": false,
    "nbgrader": {
     "checksum": "f461b0987d19f573575d007e0f7cfaa0",
     "grade": false,
     "grade_id": "cell-96ff555b80754366",
     "locked": true,
     "schema_version": 1,
     "solution": false
    }
   },
   "source": [
    "----\n",
    "# Introduction to Data Science and Systems 2020-2021\n",
    "\n",
    "## Challenge lab: Introduction to Jupyter, Python and Numpy [unassessed and ungraded]\n",
    "University of Glasgow\n",
    "\n",
    "v20202021a\n",
    "\n"
   ]
  },
  {
   "cell_type": "markdown",
   "metadata": {},
   "source": [
    "---"
   ]
  },
  {
   "cell_type": "markdown",
   "metadata": {
    "deletable": false,
    "editable": false,
    "nbgrader": {
     "checksum": "5977a46bfe29a6d33c340800543f0738",
     "grade": false,
     "grade_id": "cell-01c84fe8d49767fe",
     "locked": true,
     "schema_version": 1,
     "solution": false
    }
   },
   "source": [
    "\n",
    "### Notes\n",
    "It is recommended to keep the lecture notes open while doing this lab exercise.\n",
    "\n",
    "**This exercise is assessed**. Make sure you upload your solution by the deadline. See the notes at the bottom of this notebook for submission guidance.\n",
    "\n",
    "\n",
    "### References\n",
    "If you are stuck, the following resources are very helpful:\n",
    "\n",
    "\n",
    "* [NumPy cheatsheet](https://github.com/juliangaal/python-cheat-sheet/blob/master/NumPy/NumPy.md)\n",
    "* [NumPy API reference](https://docs.scipy.org/doc/numpy-1.13.0/reference/)\n",
    "* [NumPy user guide](https://docs.scipy.org/doc/numpy-1.13.0/user/basics.html)\n",
    "\n",
    "\n",
    "* [Python for Data Science cheatsheet](https://s3.amazonaws.com/assets.datacamp.com/blog_assets/PythonForDataScience.pdf)\n",
    "* [Another NumPy Cheatsheet](https://s3.amazonaws.com/assets.datacamp.com/blog_assets/Numpy_Python_Cheat_Sheet.pdf)\n"
   ]
  },
  {
   "cell_type": "markdown",
   "metadata": {
    "deletable": false,
    "editable": false,
    "nbgrader": {
     "checksum": "67b56f67f1e6f0122d5038d388b85c87",
     "grade": false,
     "grade_id": "cell-8ede47f17b8fd075",
     "locked": true,
     "schema_version": 1,
     "solution": false
    }
   },
   "source": [
    "## Purpose of this lab\n",
    "This lab should help you:\n",
    "* understand floating point representations\n",
    "* understand how roundoff errors occur and how you can control them\n",
    "* work with higher rank tensors, selecting the attributes you want to work with\n",
    "* understand how to do simple operations in a vectorised manner\n",
    "\n",
    "Note: this lab requires solving puzzles which require that you understand the course material. Very little code is required to get the correct solutions.\n"
   ]
  },
  {
   "cell_type": "markdown",
   "metadata": {},
   "source": [
    "## Before you start..."
   ]
  },
  {
   "cell_type": "code",
   "execution_count": 1,
   "metadata": {
    "ExecuteTime": {
     "end_time": "2020-09-28T13:04:21.942803Z",
     "start_time": "2020-09-28T13:04:21.939973Z"
    }
   },
   "outputs": [],
   "source": [
    "## custom utils\n",
    "## uncomment and run the line below if you get an error about jhwutils\n",
    "## then RESTART THE KERNEL (Kernel/Restart)\n",
    "\n",
    "#!pip --no-cache install --user -U https://github.com/johnhw/jhwutils/zipball/master   \n",
    "\n",
    "# comment it again before submitting!"
   ]
  },
  {
   "cell_type": "markdown",
   "metadata": {},
   "source": [
    "Import some basic things"
   ]
  },
  {
   "cell_type": "code",
   "execution_count": 2,
   "metadata": {
    "ExecuteTime": {
     "end_time": "2020-09-28T13:04:21.961347Z",
     "start_time": "2020-09-28T13:04:21.943780Z"
    },
    "deletable": false,
    "editable": false,
    "nbgrader": {
     "checksum": "e7104aa3f11f458e2c923ebc78097e32",
     "grade": false,
     "grade_id": "cell-7d8b7c3700ac1bc7",
     "locked": true,
     "schema_version": 1,
     "solution": false
    }
   },
   "outputs": [
    {
     "output_type": "stream",
     "name": "stdout",
     "text": [
      "Everything imported OK\n",
      "C:\\Users\\zjcar\\anaconda3\\lib\\site-packages\\IPython\\kernel\\__init__.py:12: ShimWarning: The `IPython.kernel` package has been deprecated since IPython 4.0.You should import from ipykernel or jupyter_client instead.\n",
      "  warn(\"The `IPython.kernel` package has been deprecated since IPython 4.0.\"\n"
     ]
    }
   ],
   "source": [
    "# Standard imports\n",
    "# Make sure you run this cell!\n",
    "# NumPy\n",
    "import numpy as np  \n",
    "np.set_printoptions(suppress=True)\n",
    "\n",
    "from typing import Tuple  # Add by myself for functions' type annotations.\n",
    "\n",
    "# Set up Matplotlib\n",
    "import matplotlib as mpl   \n",
    "import matplotlib.pyplot as plt\n",
    "%matplotlib inline\n",
    "plt.rc('figure', figsize=(8.0, 4.0), dpi=140)\n",
    "\n",
    "from jhwutils.checkarr import array_hash, check_hash\n",
    "from jhwutils.float_inspector import print_float_html\n",
    "import jhwutils.image_audio as ia\n",
    "import jhwutils.tick as tick\n",
    "\n",
    "import lzma, base64\n",
    "exec(lzma.decompress(base64.b64decode(b'/Td6WFoAAATm1rRGAgAhARYAAAB0L+Wj4AHWARFdAAUaCmNWCuiTCXe8bHWT/WeqghymfBRQKyklXJ3lgDWHk34myezvldkgSu3Adiur0vA+OkDfUwiMWzEclOxunCssCtgpVM94TwtylLQC9aX0APwnuNk2VBPkVpf3otXT04I1pElMWNdSgqgJ9/PqMJhdhfDr3Wrs/a/pRN/AOd+rZawioudIbGRTYZgWPHcqPLImmS2EO0Hbkc7kRAS3Nr9JkELrRMkejvVMnGgu+b1m4uXv6trDURkPrMO7HCVcO5FcMx1FURc+hNcKRmmBp1mCuW4iop6qRAMNnAur/spBmfuw+lbJkxOoIXMwrRuEXa6bnJz53WQnloXvzbWW5hqEtbPpSHPLPccxaiU5yPAKYAAAAADqkqJjsFbfFwABrQLXAwAA9LrSpbHEZ/sCAAAAAARZWg==')))\n",
    "\n",
    "print(\"Everything imported OK\")"
   ]
  },
  {
   "cell_type": "markdown",
   "metadata": {},
   "source": [
    "## Precision\n",
    "Want to change precsion of number printing in NumPy?\n",
    "\n",
    "* `np.set_printoptions(precision=30)` will show the numbers in full\n",
    "* `np.set_printoptions(precision=3)` will show three decimal places, etc.\n"
   ]
  },
  {
   "cell_type": "markdown",
   "metadata": {
    "deletable": false,
    "editable": false,
    "nbgrader": {
     "checksum": "ca8ab91e44dc877b21a57abbbadab1cc",
     "grade": false,
     "grade_id": "cell-cd90398823b51d3c",
     "locked": true,
     "schema_version": 1,
     "solution": false
    }
   },
   "source": [
    "# 1. Financial misconduct"
   ]
  },
  {
   "cell_type": "markdown",
   "metadata": {
    "deletable": false,
    "editable": false,
    "nbgrader": {
     "checksum": "1670f2db84e716450a3cac94445db3b9",
     "grade": false,
     "grade_id": "cell-cd1b63eb91f1612d",
     "locked": true,
     "schema_version": 1,
     "solution": false
    }
   },
   "source": [
    "You have been asked to verify the computation of some financial predictive models. These models produces a sequence of updates to the value of a product. The product updates are mainly of two types:\n",
    "* **large deposits**, representing inflows of new cash, often up into the billions of pounds\n",
    "* **small returns** from high-frequency trading activity\n",
    "\n",
    "The simulator produces **two** model outputs from two distinct models `a` and `b` at each time step, which provide very similar estimates of the value of these updates.\n",
    "\n",
    "You are asked to write code that will produce:\n",
    "\n",
    "* an estimate of the total value of a product over some series\n",
    "* the total difference between two different product models, both of which are very similar.\n",
    "\n",
    "You are given the existing code below, which is supposed to compute and return:\n",
    "\n",
    "* the sum of the `a` updates (i.e. total value of `a`)\n",
    "* the accumulated difference between the `a` and `b` products.\n",
    "\n",
    "However, the result is very inaccurate when tested. Modify this code to be more accurate. Do NOT use NumPy, or *any* other external module to improve your calculation. Use floating point, regardless of the fact that floating point is not appropriate for financial data.\n",
    "\n",
    "The errors should be less than 0.5 for the `a` sum and less than 1e-10 for the difference in predictions."
   ]
  },
  {
   "cell_type": "code",
   "execution_count": 3,
   "metadata": {
    "ExecuteTime": {
     "end_time": "2020-09-28T13:04:21.976963Z",
     "start_time": "2020-09-28T13:04:21.962323Z"
    },
    "deletable": false,
    "editable": false,
    "nbgrader": {
     "checksum": "ff5608433d2c972fba67f97a4d5b83d3",
     "grade": false,
     "grade_id": "cell-50aa86e1b77a72bd",
     "locked": true,
     "schema_version": 1,
     "solution": false
    }
   },
   "outputs": [],
   "source": [
    "class Simulator: # we use a class just to hold variables between calls\n",
    "    def __init__(self):\n",
    "        # initialise accumulators\n",
    "        self.a_sum = 0\n",
    "        self.b_sum = 0\n",
    "        \n",
    "    def update(self, a, b):\n",
    "        # increment\n",
    "        self.a_sum += a\n",
    "        self.b_sum += b\n",
    "        \n",
    "    def results(self):\n",
    "        # return a pair of results\n",
    "        # (you do not need to change this)\n",
    "        return self.a_sum, self.a_sum - self.b_sum"
   ]
  },
  {
   "cell_type": "code",
   "execution_count": 4,
   "metadata": {
    "ExecuteTime": {
     "end_time": "2020-09-28T13:04:22.996849Z",
     "start_time": "2020-09-28T13:04:21.978916Z"
    },
    "deletable": false,
    "editable": false,
    "nbgrader": {
     "checksum": "58c881d1e653f83c5e84e2c129cd7456",
     "grade": false,
     "grade_id": "cell-35c606e253a47cef",
     "locked": true,
     "schema_version": 1,
     "solution": false
    }
   },
   "outputs": [
    {
     "output_type": "stream",
     "name": "stdout",
     "text": [
      "Error in a_sum is 13.7734375 and 4.101232676410264e-08 in d_sum\n"
     ]
    }
   ],
   "source": [
    "a_error, d_error = simulate(Simulator())\n",
    "# bad result!\n",
    "print(f\"Error in a_sum is {a_error} and {d_error} in d_sum\")"
   ]
  },
  {
   "cell_type": "markdown",
   "metadata": {
    "deletable": false,
    "editable": false,
    "nbgrader": {
     "checksum": "0721eda0ab3ed291583c41716e7ba37a",
     "grade": false,
     "grade_id": "cell-0f6db2fc517f160b",
     "locked": true,
     "schema_version": 1,
     "solution": false
    }
   },
   "source": [
    "Copy and paste the `Simulator` into the cell below and modify it:"
   ]
  },
  {
   "cell_type": "code",
   "execution_count": 5,
   "metadata": {
    "ExecuteTime": {
     "end_time": "2020-09-28T13:47:24.140666Z",
     "start_time": "2020-09-28T13:47:24.135786Z"
    },
    "deletable": false,
    "nbgrader": {
     "checksum": "9c88de639bb042b14783119458ce1a70",
     "grade": false,
     "grade_id": "cell-25d29ac908333f15",
     "locked": false,
     "schema_version": 1,
     "solution": true
    }
   },
   "outputs": [],
   "source": [
    "# YOUR CODE HERE\n",
    "class Simulator:\n",
    "    '''\n",
    "    A simulator producing 2 model outputs at each time step.\n",
    "    '''\n",
    "\n",
    "    def __init__(self) -> None:\n",
    "        '''\n",
    "        The constructor of a simulator.\n",
    "        '''\n",
    "\n",
    "        self.small_sum_a = 0\n",
    "        self.large_sum_a = 0\n",
    "        self.sum_d = 0\n",
    "\n",
    "    def update(self, a, b) -> None:\n",
    "        '''\n",
    "        Increment.\n",
    "\n",
    "        Parameters\n",
    "        ----------\n",
    "        a : the a model\n",
    "        b : the b model\n",
    "        '''\n",
    "\n",
    "        if a > 100:\n",
    "            self.large_sum_a += a            \n",
    "        else:\n",
    "            self.small_sum_a += a\n",
    "\n",
    "        self.sum_d += (a-b)\n",
    "\n",
    "    def results(self) -> Tuple[float, float]:\n",
    "        '''\n",
    "        Return a pair of results.\n",
    "\n",
    "        Returns\n",
    "        -------\n",
    "        a_sum : the sum of the a model\n",
    "        sum_d : the total difference between two different product models\n",
    "        '''\n",
    "\n",
    "        return self.large_sum_a + self.small_sum_a, self.sum_d"
   ]
  },
  {
   "cell_type": "code",
   "execution_count": 6,
   "metadata": {
    "ExecuteTime": {
     "end_time": "2020-09-28T13:47:25.417069Z",
     "start_time": "2020-09-28T13:47:24.330147Z"
    },
    "deletable": false,
    "editable": false,
    "nbgrader": {
     "checksum": "f1e98bef3ef86adad3e5868986316e6e",
     "grade": false,
     "grade_id": "cell-3cb0d8f80031eb15",
     "locked": true,
     "schema_version": 1,
     "solution": false
    }
   },
   "outputs": [
    {
     "output_type": "stream",
     "name": "stdout",
     "text": [
      "Error in a_sum is 0.265625 and 0.0 in d_sum\n"
     ]
    }
   ],
   "source": [
    "a_error, d_error = simulate(Simulator())\n",
    "print(f\"Error in a_sum is {a_error} and {d_error} in d_sum\")"
   ]
  },
  {
   "cell_type": "code",
   "execution_count": 7,
   "metadata": {
    "ExecuteTime": {
     "end_time": "2020-09-28T13:47:17.978596Z",
     "start_time": "2020-09-28T13:47:17.970283Z"
    },
    "deletable": false,
    "editable": false,
    "nbgrader": {
     "checksum": "a1724933251f1964065800aa35105040",
     "grade": true,
     "grade_id": "cell-2b4d36e72bbc2189",
     "locked": true,
     "points": 2,
     "schema_version": 1,
     "solution": false
    }
   },
   "outputs": [
    {
     "output_type": "display_data",
     "data": {
      "text/plain": "<IPython.core.display.HTML object>",
      "text/html": "\n        <div class=\"alert alert-box alert-success\">\n        <h1> <!--{id:\"CORRECTMARK\", marks:\"2\"}--> \n         ✓ [2 marks] \n         </h1> </div>"
     },
     "metadata": {}
    }
   ],
   "source": [
    "with tick.marks(2):\n",
    "    assert(a_error<2.0)"
   ]
  },
  {
   "cell_type": "code",
   "execution_count": 8,
   "metadata": {
    "ExecuteTime": {
     "end_time": "2020-09-28T13:47:19.730204Z",
     "start_time": "2020-09-28T13:47:19.725325Z"
    },
    "deletable": false,
    "editable": false,
    "nbgrader": {
     "checksum": "4eab204e6294cd475378f325751842be",
     "grade": true,
     "grade_id": "cell-1fd742ccc66cbe18",
     "locked": true,
     "points": 2,
     "schema_version": 1,
     "solution": false
    }
   },
   "outputs": [
    {
     "output_type": "display_data",
     "data": {
      "text/plain": "<IPython.core.display.HTML object>",
      "text/html": "\n        <div class=\"alert alert-box alert-success\">\n        <h1> <!--{id:\"CORRECTMARK\", marks:\"2\"}--> \n         ✓ [2 marks] \n         </h1> </div>"
     },
     "metadata": {}
    }
   ],
   "source": [
    "with tick.marks(2):\n",
    "    assert(a_error<0.5)"
   ]
  },
  {
   "cell_type": "code",
   "execution_count": 9,
   "metadata": {
    "ExecuteTime": {
     "end_time": "2020-09-28T13:47:20.083129Z",
     "start_time": "2020-09-28T13:47:20.079224Z"
    },
    "deletable": false,
    "editable": false,
    "nbgrader": {
     "checksum": "13bd842f42436ba8c313ff9416d1e03a",
     "grade": true,
     "grade_id": "cell-d9f1430e6e4477b5",
     "locked": true,
     "points": 2,
     "schema_version": 1,
     "solution": false
    }
   },
   "outputs": [
    {
     "output_type": "display_data",
     "data": {
      "text/plain": "<IPython.core.display.HTML object>",
      "text/html": "\n        <div class=\"alert alert-box alert-success\">\n        <h1> <!--{id:\"CORRECTMARK\", marks:\"2\"}--> \n         ✓ [2 marks] \n         </h1> </div>"
     },
     "metadata": {}
    }
   ],
   "source": [
    "with tick.marks(2):\n",
    "    assert(d_error<1e-10)"
   ]
  },
  {
   "cell_type": "code",
   "execution_count": 10,
   "metadata": {
    "ExecuteTime": {
     "end_time": "2020-09-28T13:47:20.381894Z",
     "start_time": "2020-09-28T13:47:20.377991Z"
    },
    "deletable": false,
    "editable": false,
    "nbgrader": {
     "checksum": "c05c78df2a567e869e941027c4acafd4",
     "grade": true,
     "grade_id": "cell-333705048f84aa8e",
     "locked": true,
     "points": 2,
     "schema_version": 1,
     "solution": false
    }
   },
   "outputs": [
    {
     "output_type": "display_data",
     "data": {
      "text/plain": "<IPython.core.display.HTML object>",
      "text/html": "\n        <div class=\"alert alert-box alert-success\">\n        <h1> <!--{id:\"CORRECTMARK\", marks:\"2\"}--> \n         ✓ [2 marks] \n         </h1> </div>"
     },
     "metadata": {}
    }
   ],
   "source": [
    "with tick.marks(2):\n",
    "    assert(d_error<1e-12)"
   ]
  },
  {
   "cell_type": "markdown",
   "metadata": {},
   "source": [
    "---"
   ]
  },
  {
   "cell_type": "markdown",
   "metadata": {
    "deletable": false,
    "editable": false,
    "nbgrader": {
     "checksum": "0b4c0f76478bae8e75afa7257b02729a",
     "grade": false,
     "grade_id": "cell-e88d85163a2f6996",
     "locked": true,
     "schema_version": 1,
     "solution": false
    }
   },
   "source": [
    "# 2. Debugging the dump\n",
    "\n",
    "Scenario: In your first day in a new post in the IT team in a finance company, you are provided with the a portion of a memory dump of a process that was running an important simulation of foreign exchange rates in the late 1990s. Unfortunately, the system crashed half way through and the raw memory dump is all that is left. You need to extract the relevant data so that the simulation can be restarted. \n",
    "\n",
    "You know the data is stored as a numerical array, so it has some known structure. You don't know the dtype or shape of the array, or where it starts or ends in the memory dump, however.\n",
    "\n",
    "**This is a puzzle which will require careful thinking, but very little code to be written**"
   ]
  },
  {
   "cell_type": "code",
   "execution_count": 11,
   "metadata": {
    "ExecuteTime": {
     "end_time": "2020-09-28T13:04:24.208743Z",
     "start_time": "2020-09-28T13:04:24.195079Z"
    },
    "deletable": false,
    "editable": false,
    "nbgrader": {
     "checksum": "d0d800f709a783f9f2a85f576ec09fd3",
     "grade": false,
     "grade_id": "cell-a8a2afe4520c1692",
     "locked": true,
     "schema_version": 1,
     "solution": false
    }
   },
   "outputs": [],
   "source": [
    "# read the data in\n",
    "with open(\"data/crash_bytes.dump\", \"rb\")  as f:\n",
    "    crash_dump = f.read()"
   ]
  },
  {
   "cell_type": "code",
   "execution_count": 12,
   "metadata": {
    "ExecuteTime": {
     "end_time": "2020-09-28T13:04:24.233143Z",
     "start_time": "2020-09-28T13:04:24.209798Z"
    },
    "deletable": false,
    "editable": false,
    "nbgrader": {
     "checksum": "cbefd733ab0acb52341c19ec1b7b37bd",
     "grade": false,
     "grade_id": "cell-509c272084457406",
     "locked": true,
     "schema_version": 1,
     "solution": false
    }
   },
   "outputs": [
    {
     "output_type": "stream",
     "name": "stdout",
     "text": [
      "58 00 00 18 44  00 D7 45 35 00  45 A7 03 3B 9E  64 2B 31 59 66\n06 00 00 80 3F  00 00 A6 42 FC  49 6A 43 9A 99  6B 43 00 00 1F\n43 4C 37 D7 42  56 C4 11 41 00  00 00 40 00 00  B1 42 87 B6 81\n43 00 80 68 43  9A 99 11 43 96  43 D9 42 E4 84  16 41 00 00 40\n40 66 66 B0 42  E9 06 81 43 9A  19 B8 43 9A 99  21 43 C7 8B DB\n42 86 43 16 41  00 00 80 40 00  00 B3 42 AC 4C  8E 43 CD 8C A7\n43 00 00 25 43  A6 DB DD 42 FA  5D 17 41 00 00  A0 40 66 66 C0\n42 CD 7C A4 43  66 E6 51 43 33  F3 9A 43 66 26  E0 42 39 EE 1C\n41 00 00 C0 40  33 33 C4 42 DF  7F AD 43 33 33  41 43 33 B3 B3\n43 3D 8A E2 42  04 79 1E 41 00  00 E0 40 00 00  C6 42 48 B1 B6\n43 00 00 3B 43  9A 59 B1 43 21  30 E6 42 AF 32  1F 41 00 00 00\n41 00 00 C8 42  56 8E B5 43 66  E6 B2 43 00 80  A7 43 21 70 E8\n42 00 00 20 41  00 00 10 41 66  66 CA 42 08 BC  C6 43 33 33 91\n43 66 66 98 43  A8 C6 EA 42 07  F5 20 41 00 00  20 41 33 33 D1\n42 0A 97 D1 43  9A 19 8D 43 9A  D9 8E 43 CF 77  ED 42 7D A3 23\n41 70 A1 B6 43  00 9A E4 23 F4  00 00 00 00 E8  98 D9 00 2A 00\nF6 E0 E2 00 FE  96 58 00 A7 9C  9E 00 E1 ED 00  96 46 B6 9F 00\nD5 04 00 63 83  00 DB EC 1A E9  1E FD 96 F6 60  00 78 00 88 9D\n16 7D 00 6B EB  00 5E 3A 00 CB  13 00 79 00 AE  18 27 5A 04 6B\n00 86 25 00 00  00 9E 00 00 00  0C 53 00 93 04  F8 00 0B DE 00\n"
     ]
    }
   ],
   "source": [
    "# the raw memory dump, in hex. This isn't too useful...\n",
    "# but align, group, offset might be helpful to tweak...\n",
    "def print_hex(x, align=20, group=5, offset=0):\n",
    "    for i, byte in enumerate(x[offset:]):                \n",
    "        print(\"%02X\" % byte, end=\"\\n\" if i%align==align-1 else \"  \" if i%group==group-1 else \" \")            \n",
    "    \n",
    "print_hex(crash_dump)"
   ]
  },
  {
   "cell_type": "markdown",
   "metadata": {
    "deletable": false,
    "editable": false,
    "nbgrader": {
     "checksum": "c2191e5ad5b1e6874d13fe942e41153e",
     "grade": false,
     "grade_id": "cell-70d474acad76e3d9",
     "locked": true,
     "schema_version": 1,
     "solution": false
    }
   },
   "source": [
    "### What you know\n",
    "All you have is the block of raw data you can see above.  You know the array is in there, but not exactly where it starts or stops.  The header information is gone, so there is no striding information/dope vector to go by.\n",
    "\n",
    "* You know that the first column of the array is an increasing index, starting at 1.0\n",
    "\n",
    "         a        b      c    ...\n",
    "         1.0     ... \n",
    "         2.0     \n",
    "         3.0     \n",
    "         4.0     \n",
    "              \n",
    "* You also know that all values are finite are smaller than 100 billion\n",
    "* All values in the array are known to be positive.\n",
    "* You can assume the data is some form of IEEE 754, though you do not know what specific type.\n",
    "* The data starts on a byte boundary.\n",
    "\n",
    "**This is sufficient information to solve the whole puzzle**"
   ]
  },
  {
   "cell_type": "markdown",
   "metadata": {
    "deletable": false,
    "editable": false,
    "nbgrader": {
     "checksum": "4065c112980992f3c4bcfddd1787d047",
     "grade": false,
     "grade_id": "cell-bd15883bf21d89b9",
     "locked": true,
     "schema_version": 1,
     "solution": false
    }
   },
   "source": [
    "### Task\n",
    "Recover the data, formatted correctly, and store it in the variable `recovered_array`. \n",
    "\n",
    "* This will take some trial and error (although there *is* a relatively fast way to do it).\n",
    "      "
   ]
  },
  {
   "cell_type": "markdown",
   "metadata": {
    "deletable": false,
    "editable": false,
    "nbgrader": {
     "checksum": "d7a82e136e4c544b5cba24afb70f9f8e",
     "grade": false,
     "grade_id": "cell-bb12e3dfddfe2c23",
     "locked": true,
     "schema_version": 1,
     "solution": false
    }
   },
   "source": [
    "* You can convert the data to a NumPy array like this:\n",
    "`np.frombuffer(bytes, dtype, count, offset)`\n",
    "* `bytes` the data to decode, as raw bytes\n",
    "* `dtype` the datatype of the data to decode\n",
    "* `count` the number of **elements** in the array\n",
    "* `offset` **in bytes** to start recovering data\n",
    "    "
   ]
  },
  {
   "cell_type": "code",
   "execution_count": 13,
   "metadata": {
    "ExecuteTime": {
     "end_time": "2020-09-28T13:04:24.242904Z",
     "start_time": "2020-09-28T13:04:24.235099Z"
    }
   },
   "outputs": [
    {
     "output_type": "execute_result",
     "data": {
      "text/plain": [
       "array([[ 2.84739072e+028,  4.78523377e+176, -1.35803454e-313],\n",
       "       [ 1.01839522e+204,  2.27625131e-159,  4.39540807e-223],\n",
       "       [-1.13202897e-072,  2.33611998e+195, -1.01156855e+122],\n",
       "       [ 2.00012415e+000, -1.04405103e-303,  8.00914442e-147],\n",
       "       [ 1.99274574e-201, -4.86202974e-063, -3.56920527e-118],\n",
       "       [-1.34866669e+144, -1.49176074e-154, -6.34017948e-133]])"
      ]
     },
     "metadata": {},
     "execution_count": 13
    }
   ],
   "source": [
    "# A wrong example:\n",
    "# try and read 18 words from offset 0\n",
    "# reshape to a 6,3 array\n",
    "# this clearly isn't right, as you will see\n",
    "np.frombuffer(crash_dump, dtype=np.float64, count=18, offset=0).reshape(6,3)"
   ]
  },
  {
   "cell_type": "markdown",
   "metadata": {
    "deletable": false,
    "editable": false,
    "nbgrader": {
     "checksum": "71c132d31fb4cb9f3e4613430c9d3316",
     "grade": false,
     "grade_id": "cell-68ce5b4ae1bdde88",
     "locked": true,
     "schema_version": 1,
     "solution": false
    }
   },
   "source": [
    "* A hint: you can show how any NumPy memory will appear in memory in hex using `tobytes()` -- see the example below. Also, remember you need to infer the *shape* of the array."
   ]
  },
  {
   "cell_type": "code",
   "execution_count": 14,
   "metadata": {
    "ExecuteTime": {
     "end_time": "2020-09-28T13:04:24.261447Z",
     "start_time": "2020-09-28T13:04:24.243880Z"
    }
   },
   "outputs": [
    {
     "output_type": "stream",
     "name": "stdout",
     "text": [
      "00 00 00 00 00  00 F0 3F 00 00  00 00 00 00 00  40 00 00 00 00\n00 00 08 40 00  00 00 00 00 00  10 40 00 00 00  00 00 00 00 00\n00 00 00 00 00  00 00 00 "
     ]
    }
   ],
   "source": [
    "# create a simple array, and then get the raw bytes and print them\n",
    "print_hex(np.array([[1.0, 2.0, 3.0], \n",
    "                    [4.0, 0.0, 0.0]], dtype=np.float64).tobytes())"
   ]
  },
  {
   "cell_type": "code",
   "execution_count": 15,
   "metadata": {
    "ExecuteTime": {
     "end_time": "2020-09-28T13:04:24.278040Z",
     "start_time": "2020-09-28T13:04:24.262424Z"
    },
    "deletable": false,
    "nbgrader": {
     "checksum": "31f8294b34e9c578eec7e47d9bb51bd3",
     "grade": false,
     "grade_id": "cell-0052fe4f66d7ebdc",
     "locked": false,
     "schema_version": 1,
     "solution": true
    }
   },
   "outputs": [
    {
     "output_type": "stream",
     "name": "stdout",
     "text": [
      "[[  1.    83.   234.29 235.6  159.   107.61   9.11]\n [  2.    88.5  259.43 232.5  145.6  108.63   9.41]\n [  3.    88.2  258.05 368.2  161.6  109.77   9.39]\n [  4.    89.5  284.6  335.1  165.   110.93   9.46]\n [  5.    96.2  328.98 209.9  309.9  112.07   9.81]\n [  6.    98.1  347.   193.2  359.4  113.27   9.9 ]\n [  7.    99.   365.39 187.   354.7  115.09   9.95]\n [  8.   100.   363.11 357.8  335.   116.22  10.  ]\n [  9.   101.2  397.47 290.4  304.8  117.39  10.06]\n [ 10.   104.6  419.18 282.2  285.7  118.73  10.23]]\n(28, 4)\n"
     ]
    }
   ],
   "source": [
    "# YOUR CODE HERE\n",
    "np.set_printoptions(precision = 2, suppress = True)\n",
    "recovered_array = np.frombuffer(crash_dump, count = 70, dtype = np.float32, offset = 21).reshape(10, 7)\n",
    "print(recovered_array)\n",
    "print(recovered_array.strides)"
   ]
  },
  {
   "cell_type": "code",
   "execution_count": 16,
   "metadata": {
    "ExecuteTime": {
     "end_time": "2020-09-28T13:04:24.296115Z",
     "start_time": "2020-09-28T13:04:24.279092Z"
    },
    "deletable": false,
    "editable": false,
    "nbgrader": {
     "checksum": "ce639c7149cee97afa596ab488e7d5f3",
     "grade": true,
     "grade_id": "cell-9ac5af2bda4cd2ed",
     "locked": true,
     "points": 5,
     "schema_version": 1,
     "solution": false
    }
   },
   "outputs": [
    {
     "output_type": "display_data",
     "data": {
      "text/plain": "<IPython.core.display.HTML object>",
      "text/html": "\n        <div class=\"alert alert-box alert-success\">\n        <h1> <!--{id:\"CORRECTMARK\", marks:\"5\"}--> \n         ✓ [5 marks] \n         </h1> </div>"
     },
     "metadata": {}
    }
   ],
   "source": [
    "# test the shape\n",
    "with tick.marks(5):        \n",
    "    assert(check_hash(recovered_array.shape, ((2,), 59.5)))"
   ]
  },
  {
   "cell_type": "code",
   "execution_count": 17,
   "metadata": {
    "ExecuteTime": {
     "end_time": "2020-09-28T13:04:24.312707Z",
     "start_time": "2020-09-28T13:04:24.297092Z"
    },
    "deletable": false,
    "editable": false,
    "nbgrader": {
     "checksum": "b0b2f1e16f27fcd8dec87ecd691856ee",
     "grade": true,
     "grade_id": "cell-926515ccd575cbf4",
     "locked": true,
     "points": 8,
     "schema_version": 1,
     "solution": false
    }
   },
   "outputs": [
    {
     "output_type": "display_data",
     "data": {
      "text/plain": "<IPython.core.display.HTML object>",
      "text/html": "\n        <div class=\"alert alert-box alert-success\">\n        <h1> <!--{id:\"CORRECTMARK\", marks:\"8\"}--> \n         ✓ [8 marks] \n         </h1> </div>"
     },
     "metadata": {}
    }
   ],
   "source": [
    "# test if the result is correct   \n",
    "with tick.marks(8):        \n",
    "    assert(np.allclose(array_hash(recovered_array)[1], 411436.8382024765, atol=1e-2, rtol=1e-2))"
   ]
  },
  {
   "cell_type": "markdown",
   "metadata": {},
   "source": [
    "---"
   ]
  },
  {
   "cell_type": "markdown",
   "metadata": {
    "deletable": false,
    "editable": false,
    "nbgrader": {
     "checksum": "801e401a61b2d7a83b6deeaff3d807dd",
     "grade": false,
     "grade_id": "cell-0e8cf17bfe87e8ff",
     "locked": true,
     "schema_version": 1,
     "solution": false
    }
   },
   "source": [
    "# 3. Working with tensors\n",
    "The file `data/font_sheet.png` contains a number of characters in different fonts. It is an image which consists of the images of each *printable* ASCII character, (characters 32-128) arranged left to right. Each character image is precisely square. \n",
    "\n",
    "These are the characters present, in order:"
   ]
  },
  {
   "cell_type": "code",
   "execution_count": 18,
   "metadata": {
    "ExecuteTime": {
     "end_time": "2020-09-28T13:04:24.329299Z",
     "start_time": "2020-09-28T13:04:24.313683Z"
    }
   },
   "outputs": [
    {
     "output_type": "stream",
     "name": "stdout",
     "text": [
      " !\"#$%&'()*+,-./0123456789:;<=>?@ABCDEFGHIJKLMNOPQRSTUVWXYZ[\\]^_`abcdefghijklmnopqrstuvwxyz{|}~\n"
     ]
    }
   ],
   "source": [
    "chars = ''.join([chr(i) for i in range(32, 128)])\n",
    "print(chars)"
   ]
  },
  {
   "cell_type": "markdown",
   "metadata": {
    "deletable": false,
    "editable": false,
    "nbgrader": {
     "checksum": "71a40cf600df1c6947671f167e00c910",
     "grade": false,
     "grade_id": "cell-9e3426b2a10d4afc",
     "locked": true,
     "schema_version": 1,
     "solution": false
    }
   },
   "source": [
    "  \n",
    "Each font is also stacked left to right, so the image is one *very* long strip of characters. The image is grayscale."
   ]
  },
  {
   "cell_type": "code",
   "execution_count": 19,
   "metadata": {
    "ExecuteTime": {
     "end_time": "2020-09-28T13:04:24.970819Z",
     "start_time": "2020-09-28T13:04:24.334179Z"
    }
   },
   "outputs": [
    {
     "output_type": "stream",
     "name": "stderr",
     "text": [
      "C:\\Users\\zjcar\\anaconda3\\lib\\site-packages\\jhwutils\\image_audio.py:42: FutureWarning: Non RGB image conversion is now deprecated. For RGBA images, please use rgb2gray(rgba2rgb(rgb)) instead. In version 0.19, a ValueError will be raised if input image last dimension length is not 3.\n",
      "  img = skimage.color.rgb2gray(skimage.io.imread(fname, plugin=\"pil\"))\n",
      "(1856, 6144)\n"
     ]
    }
   ],
   "source": [
    "all_fonts = ia.load_image_gray(\"data/font_sheet.png\")\n",
    "print(all_fonts.shape)"
   ]
  },
  {
   "cell_type": "code",
   "execution_count": 20,
   "metadata": {
    "ExecuteTime": {
     "end_time": "2020-09-28T13:04:24.981085Z",
     "start_time": "2020-09-28T13:04:24.972771Z"
    }
   },
   "outputs": [
    {
     "output_type": "display_data",
     "data": {
      "image/png": "[encoded data removed]",
      "text/plain": "<IPython.core.display.Image object>"
     },
     "metadata": {
      "image/png": {
       "width": "100%"
      }
     }
    }
   ],
   "source": [
    "# show a portion of the image\n",
    "ia.show_image(all_fonts[64:128, 1024:2048])"
   ]
  },
  {
   "cell_type": "markdown",
   "metadata": {
    "deletable": false,
    "editable": false,
    "nbgrader": {
     "checksum": "d78e67f4540a3cbf798d53bed17d77f8",
     "grade": false,
     "grade_id": "cell-b8d67310b0668f38",
     "locked": true,
     "schema_version": 1,
     "solution": false
    }
   },
   "source": [
    "Task A. Rearrange the image into a tensor called `font_sheet` that is ordered like this:\n",
    "\n",
    "        (font, character, rows, cols)\n",
    "        \n",
    "* Showing the image `font_sheet[16, 33, :, :]` should show the \"A\" character of the 17th font.\n",
    "* Showing the image `font_sheet[10, 1, :, :]` should be the \"!\" character of the 11th font."
   ]
  },
  {
   "cell_type": "code",
   "execution_count": 21,
   "metadata": {
    "ExecuteTime": {
     "end_time": "2020-09-28T13:04:24.995726Z",
     "start_time": "2020-09-28T13:04:24.982062Z"
    }
   },
   "outputs": [
    {
     "output_type": "display_data",
     "data": {
      "text/plain": "<IPython.core.display.Latex object>",
      "text/latex": "\\[   \\fbox{  $ \n \\quad \\  \\llap{0} \\ \\  \\strut  \\quad \\  \\llap{1} \\ \\  \\strut  \\quad \\  \\llap{2} \\ \\  \\strut  \\quad \\  \\llap{3} \\ \\  \\strut  \\quad \\  \\llap{4} \\ \\  \\strut  \\quad \\  \\llap{5} \\ \\  \\strut \\\\ \n\\quad \\  \\llap{6} \\ \\  \\strut  \\quad \\  \\llap{7} \\ \\  \\strut  \\quad \\  \\llap{8} \\ \\  \\strut  \\quad \\  \\llap{9} \\ \\  \\strut  \\quad \\  \\llap{10} \\ \\  \\strut  \\quad \\  \\llap{11} \\ \\  \\strut \\\\ \n\\quad \\  \\llap{12} \\ \\  \\strut  \\quad \\  \\llap{13} \\ \\  \\strut  \\quad \\  \\llap{14} \\ \\  \\strut  \\quad \\  \\llap{15} \\ \\  \\strut  \\quad \\  \\llap{16} \\ \\  \\strut  \\quad \\  \\llap{17} \\ \\  \\strut \\\\ \n\\quad \\  \\llap{18} \\ \\  \\strut  \\quad \\  \\llap{19} \\ \\  \\strut  \\quad \\  \\llap{20} \\ \\  \\strut  \\quad \\  \\llap{21} \\ \\  \\strut  \\quad \\  \\llap{22} \\ \\  \\strut  \\quad \\  \\llap{23} \\ \\  \\strut \\\\ \n\\quad \\  \\llap{24} \\ \\  \\strut  \\quad \\  \\llap{25} \\ \\  \\strut  \\quad \\  \\llap{26} \\ \\  \\strut  \\quad \\  \\llap{27} \\ \\  \\strut  \\quad \\  \\llap{28} \\ \\  \\strut  \\quad \\  \\llap{29} \\ \\  \\strut \\\\ \n\\quad \\  \\llap{30} \\ \\  \\strut  \\quad \\  \\llap{31} \\ \\  \\strut  \\quad \\  \\llap{32} \\ \\  \\strut  \\quad \\  \\llap{33} \\ \\  \\strut  \\quad \\  \\llap{34} \\ \\  \\strut  \\quad \\  \\llap{35} \\ \\  \\strut   \\strut $ }\\ \\  \\]"
     },
     "metadata": {}
    },
    {
     "output_type": "display_data",
     "data": {
      "text/plain": "<IPython.core.display.Latex object>",
      "text/latex": "\\[   \\fbox{  $ \n   \\fbox{  $ \n \\quad \\  \\llap{0} \\ \\  \\strut  \\quad \\  \\llap{1} \\ \\  \\strut  \\quad \\  \\llap{2} \\ \\  \\strut \\\\ \n\\quad \\  \\llap{3} \\ \\  \\strut  \\quad \\  \\llap{4} \\ \\  \\strut  \\quad \\  \\llap{5} \\ \\  \\strut   \\strut $ }\\ \\    \\fbox{  $ \n \\quad \\  \\llap{6} \\ \\  \\strut  \\quad \\  \\llap{7} \\ \\  \\strut  \\quad \\  \\llap{8} \\ \\  \\strut \\\\ \n\\quad \\  \\llap{9} \\ \\  \\strut  \\quad \\  \\llap{10} \\ \\  \\strut  \\quad \\  \\llap{11} \\ \\  \\strut   \\strut $ }\\ \\    \\fbox{  $ \n \\quad \\  \\llap{12} \\ \\  \\strut  \\quad \\  \\llap{13} \\ \\  \\strut  \\quad \\  \\llap{14} \\ \\  \\strut \\\\ \n\\quad \\  \\llap{15} \\ \\  \\strut  \\quad \\  \\llap{16} \\ \\  \\strut  \\quad \\  \\llap{17} \\ \\  \\strut   \\strut $ }\\ \\ \\\\ \n  \\fbox{  $ \n \\quad \\  \\llap{18} \\ \\  \\strut  \\quad \\  \\llap{19} \\ \\  \\strut  \\quad \\  \\llap{20} \\ \\  \\strut \\\\ \n\\quad \\  \\llap{21} \\ \\  \\strut  \\quad \\  \\llap{22} \\ \\  \\strut  \\quad \\  \\llap{23} \\ \\  \\strut   \\strut $ }\\ \\    \\fbox{  $ \n \\quad \\  \\llap{24} \\ \\  \\strut  \\quad \\  \\llap{25} \\ \\  \\strut  \\quad \\  \\llap{26} \\ \\  \\strut \\\\ \n\\quad \\  \\llap{27} \\ \\  \\strut  \\quad \\  \\llap{28} \\ \\  \\strut  \\quad \\  \\llap{29} \\ \\  \\strut   \\strut $ }\\ \\    \\fbox{  $ \n \\quad \\  \\llap{30} \\ \\  \\strut  \\quad \\  \\llap{31} \\ \\  \\strut  \\quad \\  \\llap{32} \\ \\  \\strut \\\\ \n\\quad \\  \\llap{33} \\ \\  \\strut  \\quad \\  \\llap{34} \\ \\  \\strut  \\quad \\  \\llap{35} \\ \\  \\strut   \\strut $ }\\ \\   \\strut $ }\\ \\  \\]"
     },
     "metadata": {}
    }
   ],
   "source": [
    "## hint\n",
    "from jhwutils.matrices import show_boxed_tensor_latex\n",
    "n = np.arange(36).reshape(2*3, 3*2)\n",
    "show_boxed_tensor_latex(n, box_rows=False)\n",
    "show_boxed_tensor_latex(n.reshape(2,3,2,3), box_rows=False)"
   ]
  },
  {
   "cell_type": "code",
   "execution_count": 22,
   "metadata": {
    "ExecuteTime": {
     "end_time": "2020-09-28T13:04:25.011341Z",
     "start_time": "2020-09-28T13:04:24.996701Z"
    },
    "deletable": false,
    "nbgrader": {
     "checksum": "4a2950aec5509ad8f50d398acd110663",
     "grade": false,
     "grade_id": "cell-66e3a2fcbe9e7e36",
     "locked": false,
     "schema_version": 1,
     "solution": true
    }
   },
   "outputs": [
    {
     "output_type": "stream",
     "name": "stdout",
     "text": [
      "(1856, 6144)\n(29, 96, 64, 64)\n"
     ]
    }
   ],
   "source": [
    "# YOUR CODE HERE\n",
    "print(all_fonts.shape)\n",
    "font_sheet = all_fonts.reshape(-1, 64, len(chars), 64) \n",
    "font_sheet = np.einsum(\"ijkl->ikjl\", font_sheet)\n",
    "print(font_sheet.shape)"
   ]
  },
  {
   "cell_type": "code",
   "execution_count": 23,
   "metadata": {
    "ExecuteTime": {
     "end_time": "2020-09-28T13:04:25.116749Z",
     "start_time": "2020-09-28T13:04:25.012318Z"
    }
   },
   "outputs": [
    {
     "output_type": "display_data",
     "data": {
      "text/plain": "<Figure size 1120x560 with 1 Axes>",
      "image/png": "[encoded data removed]"
     },
     "metadata": {
      "needs_background": "light"
     }
    }
   ],
   "source": [
    "# if your code worked, you should see an ! below\n",
    "ia.show_image_mpl(font_sheet[10, 1, :, :])"
   ]
  },
  {
   "cell_type": "code",
   "execution_count": 24,
   "metadata": {
    "ExecuteTime": {
     "end_time": "2020-09-28T13:04:25.129437Z",
     "start_time": "2020-09-28T13:04:25.117726Z"
    }
   },
   "outputs": [
    {
     "output_type": "display_data",
     "data": {
      "image/png": "[encoded data removed]",
      "text/plain": "<IPython.core.display.Image object>"
     },
     "metadata": {
      "image/png": {
       "width": "20%"
      }
     }
    }
   ],
   "source": [
    "# if your code worked, you should see a gif of letters below\n",
    "ia.show_gif(font_sheet[8, 33:33+26, :, :], width=\"20%\")"
   ]
  },
  {
   "cell_type": "code",
   "execution_count": 25,
   "metadata": {
    "ExecuteTime": {
     "end_time": "2020-09-28T13:06:16.969428Z",
     "start_time": "2020-09-28T13:06:16.964038Z"
    },
    "deletable": false,
    "editable": false,
    "nbgrader": {
     "checksum": "fdeb53c2959f4102aac5f78e0bcefafa",
     "grade": true,
     "grade_id": "cell-e21fcd41d335d470",
     "locked": true,
     "points": 6,
     "schema_version": 1,
     "solution": false
    }
   },
   "outputs": [
    {
     "output_type": "display_data",
     "data": {
      "text/plain": "<IPython.core.display.HTML object>",
      "text/html": "\n        <div class=\"alert alert-box alert-success\">\n        <h1> <!--{id:\"CORRECTMARK\", marks:\"6\"}--> \n         ✓ [6 marks] \n         </h1> </div>"
     },
     "metadata": {}
    }
   ],
   "source": [
    "# test shape is correct\n",
    "with tick.marks(6):        \n",
    "    assert(check_hash(font_sheet.shape, ((4,), 944.9499472573252)))"
   ]
  },
  {
   "cell_type": "code",
   "execution_count": 26,
   "metadata": {
    "ExecuteTime": {
     "end_time": "2020-09-28T13:06:19.106193Z",
     "start_time": "2020-09-28T13:06:18.453183Z"
    },
    "deletable": false,
    "editable": false,
    "nbgrader": {
     "checksum": "1c04cf8b36f9e9b60333e9346acd4774",
     "grade": true,
     "grade_id": "cell-b26945a0ff9f8ded",
     "locked": true,
     "points": 10,
     "schema_version": 1,
     "solution": false
    }
   },
   "outputs": [
    {
     "output_type": "display_data",
     "data": {
      "text/plain": "<IPython.core.display.HTML object>",
      "text/html": "\n        <div class=\"alert alert-box alert-success\">\n        <h1> <!--{id:\"CORRECTMARK\", marks:\"10\"}--> \n         ✓ [10 marks] \n         </h1> </div>"
     },
     "metadata": {}
    }
   ],
   "source": [
    "# test content is ok\n",
    "with tick.marks(10):    \n",
    "    assert(np.allclose(array_hash(font_sheet)[1], 55441039333148.88, atol=1e-2, rtol=1e-2))    "
   ]
  },
  {
   "cell_type": "markdown",
   "metadata": {
    "deletable": false,
    "editable": false,
    "nbgrader": {
     "checksum": "d21a11c2d265bae1f2ffcdf80aad7164",
     "grade": false,
     "grade_id": "cell-c660c03ac76fe59b",
     "locked": true,
     "schema_version": 1,
     "solution": false
    }
   },
   "source": [
    "B. Create an array `letter_sample`, which will be a 2D image containing one letter from each of the letters in the lowercase alphabet, with each character in a different font. The results should show \"a\" in font 0, \"b\" in font 1, \"c\" in font 2 and so on, as a single continuous strip.\n",
    "\n",
    "The letters should be arranged horizontally and contiguously in a strip in the output image:\n",
    "\n",
    "       abcdefghijklmnopqrstuvwxyz\n",
    "\n",
    "\n",
    "Hint:\n",
    "* you will have to partially *undo* some of the swapping/reshaping you did earlier to get the data in the right format\n",
    "* you need to use fancy indexing\n",
    "* you'll need to slice -- work out how to slice the array correctly\n",
    "* do not use a loop"
   ]
  },
  {
   "cell_type": "code",
   "execution_count": 27,
   "metadata": {
    "ExecuteTime": {
     "end_time": "2020-09-28T13:06:23.898578Z",
     "start_time": "2020-09-28T13:06:23.893699Z"
    },
    "deletable": false,
    "nbgrader": {
     "checksum": "fe7812d91cfd6689fa2296c971a16199",
     "grade": false,
     "grade_id": "cell-885aa32f73499743",
     "locked": false,
     "schema_version": 1,
     "solution": true
    }
   },
   "outputs": [],
   "source": [
    "# YOUR CODE HERE\n",
    "letter_sample = font_sheet[:, chars.find('a'):chars.find('z') + 1, :, :]\n",
    "fonts = np.arange(26)\n",
    "letter_sample = letter_sample[fonts, fonts]\n",
    "letter_sample = letter_sample.swapaxes(0, 1).reshape(64, -1)"
   ]
  },
  {
   "cell_type": "code",
   "execution_count": 28,
   "metadata": {
    "ExecuteTime": {
     "end_time": "2020-09-28T13:06:37.581435Z",
     "start_time": "2020-09-28T13:06:37.575067Z"
    }
   },
   "outputs": [
    {
     "output_type": "display_data",
     "data": {
      "image/png": "[encoded data removed]",
      "text/plain": "<IPython.core.display.Image object>"
     },
     "metadata": {
      "image/png": {
       "width": "100%"
      }
     }
    }
   ],
   "source": [
    "# each character should appear in a different font\n",
    "ia.show_image(letter_sample)"
   ]
  },
  {
   "cell_type": "code",
   "execution_count": 29,
   "metadata": {
    "ExecuteTime": {
     "end_time": "2020-09-28T13:06:52.917486Z",
     "start_time": "2020-09-28T13:06:52.909764Z"
    },
    "deletable": false,
    "editable": false,
    "nbgrader": {
     "checksum": "15be7e251623f35999d01a302240b891",
     "grade": true,
     "grade_id": "cell-70f65b6bc9676a93",
     "locked": true,
     "points": 8,
     "schema_version": 1,
     "solution": false
    }
   },
   "outputs": [
    {
     "output_type": "display_data",
     "data": {
      "text/plain": "<IPython.core.display.HTML object>",
      "text/html": "\n        <div class=\"alert alert-box alert-success\">\n        <h1> <!--{id:\"CORRECTMARK\", marks:\"8\"}--> \n         ✓ [8 marks] \n         </h1> </div>"
     },
     "metadata": {}
    }
   ],
   "source": [
    "with tick.marks(8):\n",
    "    assert(check_hash(letter_sample,((64, 1664), 4815084617.957046)))"
   ]
  },
  {
   "cell_type": "markdown",
   "metadata": {
    "deletable": false,
    "editable": false,
    "nbgrader": {
     "checksum": "f66a4cf512c07551217a74fac8abe246",
     "grade": false,
     "grade_id": "cell-36342921a0efbd7d",
     "locked": true,
     "schema_version": 1,
     "solution": false
    }
   },
   "source": [
    "C. Compute the average representation of the letter \"x\" by taking the 64x64 mean image of the letter `x` across all fonts and store it in `average_x`.\n",
    "\n",
    "        "
   ]
  },
  {
   "cell_type": "code",
   "execution_count": 30,
   "metadata": {
    "ExecuteTime": {
     "end_time": "2020-09-28T13:06:54.695013Z",
     "start_time": "2020-09-28T13:06:54.691110Z"
    },
    "deletable": false,
    "nbgrader": {
     "checksum": "f9ef091a5588130c418268f7d4c1f399",
     "grade": false,
     "grade_id": "cell-e9b55239e54bd3d9",
     "locked": false,
     "schema_version": 1,
     "solution": true
    }
   },
   "outputs": [],
   "source": [
    "# YOUR CODE HERE\n",
    "average_x = np.mean(font_sheet[:, chars.find('a') + 23, :, :], axis = 0)"
   ]
  },
  {
   "cell_type": "code",
   "execution_count": 31,
   "metadata": {
    "ExecuteTime": {
     "end_time": "2020-09-28T13:06:56.550295Z",
     "start_time": "2020-09-28T13:06:56.462926Z"
    }
   },
   "outputs": [
    {
     "output_type": "display_data",
     "data": {
      "text/plain": "<Figure size 1120x560 with 1 Axes>",
      "image/png": "[encoded data removed]"
     },
     "metadata": {
      "needs_background": "light"
     }
    }
   ],
   "source": [
    "# show the result -- should be a 64x64 image\n",
    "ia.show_image_mpl(average_x)"
   ]
  },
  {
   "cell_type": "code",
   "execution_count": 32,
   "metadata": {
    "ExecuteTime": {
     "end_time": "2020-09-28T13:06:57.743810Z",
     "start_time": "2020-09-28T13:06:57.737955Z"
    },
    "deletable": false,
    "editable": false,
    "nbgrader": {
     "checksum": "f1e982db58f6f7f7bc5c488478800085",
     "grade": true,
     "grade_id": "cell-23945e7b1798eac2",
     "locked": true,
     "points": 5,
     "schema_version": 1,
     "solution": false
    }
   },
   "outputs": [
    {
     "output_type": "display_data",
     "data": {
      "text/plain": "<IPython.core.display.HTML object>",
      "text/html": "\n        <div class=\"alert alert-box alert-success\">\n        <h1> <!--{id:\"CORRECTMARK\", marks:\"5\"}--> \n         ✓ [5 marks] \n         </h1> </div>"
     },
     "metadata": {}
    }
   ],
   "source": [
    "with tick.marks(5):    \n",
    "    assert(check_hash(average_x, ((64, 64), 7278599.401423973)))"
   ]
  },
  {
   "cell_type": "markdown",
   "metadata": {},
   "source": [
    "----"
   ]
  },
  {
   "cell_type": "markdown",
   "metadata": {},
   "source": [
    "## Rendering fonts\n",
    "Complete the function below. It should render text using the provided font index, and *return* a single array with the text rendered in a horizontal strip. It should use `font_sheet` that you defined earlier. You can assume equal spacing of letters. \n",
    "\n",
    "* You can compute the index of the character in the same units as the font sheet using the formula:\n",
    "\n",
    "      ix = ord(char) - 32\n",
    "    \n",
    "Every ASCII character (32-127) should be rendered. Any character that could not be rendered should be rendered as a **blank white** square.    \n",
    "\n",
    "* It is fine to use a `for` loop to solve this problem"
   ]
  },
  {
   "cell_type": "code",
   "execution_count": 33,
   "metadata": {
    "ExecuteTime": {
     "end_time": "2020-09-28T13:08:05.469366Z",
     "start_time": "2020-09-28T13:08:05.463510Z"
    },
    "deletable": false,
    "nbgrader": {
     "checksum": "f254e2c692ade9761bcc281dac6365d7",
     "grade": false,
     "grade_id": "cell-5ae83dcf83f39b03",
     "locked": false,
     "schema_version": 1,
     "solution": true
    }
   },
   "outputs": [],
   "source": [
    "# YOUR CODE HERE\n",
    "def render_text(string, font_index):\n",
    "    '''\n",
    "    Return an image with the given string rendered, using the font_index selected. Read characters from font_sheet.\n",
    "\n",
    "    Parameters\n",
    "    ----------\n",
    "    string : a string to be rendered\n",
    "    font_index : the index of the font to use\n",
    "\n",
    "    Returns\n",
    "    -------\n",
    "    glyphs : a single array with the text rendered in a horizontal strip\n",
    "    '''\n",
    "    \n",
    "    glyphs = []\n",
    "\n",
    "    for char in string:\n",
    "        ix = ord(char) - 32  # The index of the character\n",
    "        glyph = font_sheet[font_index, ix, :, :] if ix >= 0 and ix < 96 else np.ones((64, 64))  # Blank character if the condition is not satisfied.\n",
    "        glyphs.append(glyph)\n",
    "\n",
    "    return np.concatenate(glyphs, axis = 1)"
   ]
  },
  {
   "cell_type": "code",
   "execution_count": 34,
   "metadata": {
    "ExecuteTime": {
     "end_time": "2020-09-28T13:08:06.470844Z",
     "start_time": "2020-09-28T13:08:06.463036Z"
    }
   },
   "outputs": [
    {
     "output_type": "display_data",
     "data": {
      "image/png": "[encoded data removed]",
      "text/plain": "<IPython.core.display.Image object>"
     },
     "metadata": {
      "image/png": {
       "width": "100%"
      }
     }
    }
   ],
   "source": [
    "# you should be able to read this\n",
    "ia.show_image(render_text(\"Can you see this clearly?\", 23))"
   ]
  },
  {
   "cell_type": "code",
   "execution_count": 35,
   "metadata": {
    "ExecuteTime": {
     "end_time": "2020-09-28T13:08:08.318804Z",
     "start_time": "2020-09-28T13:08:08.310996Z"
    }
   },
   "outputs": [
    {
     "output_type": "display_data",
     "data": {
      "image/png": "[encoded data removed]",
      "text/plain": "<IPython.core.display.Image object>"
     },
     "metadata": {
      "image/png": {
       "width": "100%"
      }
     }
    }
   ],
   "source": [
    "# this should look the same\n",
    "ia.show_image(render_text(\"Can\\tyou\\nsee\\xf5this\\x00clearly?\", 23))"
   ]
  },
  {
   "cell_type": "code",
   "execution_count": 36,
   "metadata": {
    "ExecuteTime": {
     "end_time": "2020-09-28T13:08:09.831236Z",
     "start_time": "2020-09-28T13:08:09.823428Z"
    }
   },
   "outputs": [
    {
     "output_type": "display_data",
     "data": {
      "image/png": "[encoded data removed]",
      "text/plain": "<IPython.core.display.Image object>"
     },
     "metadata": {
      "image/png": {
       "width": "100%"
      }
     }
    }
   ],
   "source": [
    "ia.show_image(render_text(\"IDSS\", 1))"
   ]
  },
  {
   "cell_type": "code",
   "execution_count": 37,
   "metadata": {
    "ExecuteTime": {
     "end_time": "2020-09-28T13:08:11.338960Z",
     "start_time": "2020-09-28T13:08:11.333104Z"
    },
    "deletable": false,
    "editable": false,
    "nbgrader": {
     "checksum": "cd7c85ff2112f9c40e3453be6ca2906a",
     "grade": false,
     "grade_id": "cell-3a50d2f27fc709fc",
     "locked": true,
     "schema_version": 1,
     "solution": false
    }
   },
   "outputs": [
    {
     "output_type": "display_data",
     "data": {
      "text/plain": "<IPython.core.display.HTML object>",
      "text/html": "\n        <div class=\"alert alert-box alert-success\">\n        <h1> <!--{id:\"CORRECTMARK\", marks:\"0\"}--> \n         ✓ [0 marks] \n         </h1> </div>"
     },
     "metadata": {}
    }
   ],
   "source": [
    "with tick.marks(0):\n",
    "    assert(check_hash(render_text(\"Test 1\", 1), ((64, 384), 269160963.20571893)))"
   ]
  },
  {
   "cell_type": "code",
   "execution_count": 38,
   "metadata": {
    "ExecuteTime": {
     "end_time": "2020-09-28T13:08:12.315238Z",
     "start_time": "2020-09-28T13:08:12.309383Z"
    },
    "deletable": false,
    "editable": false,
    "nbgrader": {
     "checksum": "90069727e76fbd2d1681a53b679637c9",
     "grade": false,
     "grade_id": "cell-12523efdd62618b3",
     "locked": true,
     "schema_version": 1,
     "solution": false
    }
   },
   "outputs": [
    {
     "output_type": "display_data",
     "data": {
      "text/plain": "<IPython.core.display.HTML object>",
      "text/html": "\n        <div class=\"alert alert-box alert-success\">\n        <h1> <!--{id:\"CORRECTMARK\", marks:\"0\"}--> \n         ✓ [0 marks] \n         </h1> </div>"
     },
     "metadata": {}
    }
   ],
   "source": [
    "with tick.marks(0):\n",
    "    assert(check_hash(render_text(\"Test 2\", 2),((64, 384), 282670129.18082076)))"
   ]
  },
  {
   "cell_type": "code",
   "execution_count": 39,
   "metadata": {
    "ExecuteTime": {
     "end_time": "2020-09-28T13:08:13.543355Z",
     "start_time": "2020-09-28T13:08:13.537500Z"
    },
    "deletable": false,
    "editable": false,
    "nbgrader": {
     "checksum": "0f256dff3b69cc6471a0e2b37ed18274",
     "grade": false,
     "grade_id": "cell-74c0a0336db2f47e",
     "locked": true,
     "schema_version": 1,
     "solution": false
    }
   },
   "outputs": [
    {
     "output_type": "display_data",
     "data": {
      "text/plain": "<IPython.core.display.HTML object>",
      "text/html": "\n        <div class=\"alert alert-box alert-success\">\n        <h1> <!--{id:\"CORRECTMARK\", marks:\"0\"}--> \n         ✓ [0 marks] \n         </h1> </div>"
     },
     "metadata": {}
    }
   ],
   "source": [
    "with tick.marks(0):\n",
    "    assert(check_hash(render_text(\"Test\\n3\", 3), ((64, 384), 283057779.18977338)))"
   ]
  },
  {
   "cell_type": "code",
   "execution_count": 40,
   "metadata": {
    "ExecuteTime": {
     "end_time": "2020-09-28T13:08:14.168100Z",
     "start_time": "2020-09-28T13:08:14.162242Z"
    },
    "deletable": false,
    "editable": false,
    "nbgrader": {
     "checksum": "0dcb26ffd9be4b62a4bf0de217339c89",
     "grade": false,
     "grade_id": "cell-0fd9508a61e6950e",
     "locked": true,
     "schema_version": 1,
     "solution": false
    }
   },
   "outputs": [
    {
     "output_type": "display_data",
     "data": {
      "text/plain": "<IPython.core.display.HTML object>",
      "text/html": "\n        <div class=\"alert alert-box alert-success\">\n        <h1> <!--{id:\"CORRECTMARK\", marks:\"0\"}--> \n         ✓ [0 marks] \n         </h1> </div>"
     },
     "metadata": {}
    }
   ],
   "source": [
    "with tick.marks(0):\n",
    "    assert(check_hash(render_text(\"\\n\\tTest\\x00\\xff4\", 4), ((64, 576), 657469474.43368447)))"
   ]
  },
  {
   "cell_type": "markdown",
   "metadata": {},
   "source": [
    "---"
   ]
  },
  {
   "cell_type": "markdown",
   "metadata": {},
   "source": [
    "# Submission on Moodle"
   ]
  },
  {
   "cell_type": "markdown",
   "metadata": {},
   "source": [
    "You are welcome to submit the lab on Moodle but we will not be grading it. There is no PDF generated for this challenge lab."
   ]
  }
 ],
 "metadata": {
  "kernelspec": {
   "name": "python388jvsc74a57bd083ad9dc287f1bd68e1373a062e5fec25449c786b53be0804b995b765c2d61fc9",
   "display_name": "Python 3.8.8 64-bit (conda)"
  },
  "language_info": {
   "codemirror_mode": {
    "name": "ipython",
    "version": 3
   },
   "file_extension": ".py",
   "mimetype": "text/x-python",
   "name": "python",
   "nbconvert_exporter": "python",
   "pygments_lexer": "ipython3",
   "version": "3.8.8-final"
  },
  "toc": {
   "base_numbering": 1,
   "nav_menu": {},
   "number_sections": true,
   "sideBar": true,
   "skip_h1_title": false,
   "title_cell": "Table of Contents",
   "title_sidebar": "Contents",
   "toc_cell": false,
   "toc_position": {},
   "toc_section_display": "block",
   "toc_window_display": false
  },
  "varInspector": {
   "cols": {
    "lenName": 16,
    "lenType": 16,
    "lenVar": 40
   },
   "kernels_config": {
    "python": {
     "delete_cmd_postfix": "",
     "delete_cmd_prefix": "del ",
     "library": "var_list.py",
     "varRefreshCmd": "print(var_dic_list())"
    },
    "r": {
     "delete_cmd_postfix": ") ",
     "delete_cmd_prefix": "rm(",
     "library": "var_list.r",
     "varRefreshCmd": "cat(var_dic_list()) "
    }
   },
   "types_to_exclude": [
    "module",
    "function",
    "builtin_function_or_method",
    "instance",
    "_Feature"
   ],
   "window_display": false
  }
 },
 "nbformat": 4,
 "nbformat_minor": 1
}