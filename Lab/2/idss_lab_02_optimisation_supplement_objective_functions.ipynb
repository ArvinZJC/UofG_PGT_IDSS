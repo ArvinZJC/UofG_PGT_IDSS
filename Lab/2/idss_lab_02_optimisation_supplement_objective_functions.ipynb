{
 "cells": [
  {
   "cell_type": "markdown",
   "metadata": {},
   "source": [
    "# Introduction to Data Science and Systems 2020-2021<small><small>v20202021a</small></small>\n",
    "## Lab 2: Optimisation \n",
    "## Supplement: Objective functions\n",
    "\n",
    "#### University of Glasgow, JHW, 2019\n",
    "---\n",
    "$$\\newcommand{\\vec}[1]{ {\\bf #1}} \n",
    "\\newcommand{\\real}{\\mathbb{R}}\n",
    "\\DeclareMathOperator*{\\argmin}{arg\\,min}\n",
    "\\vec{x}\\real\n",
    "$$\n"
   ]
  },
  {
   "cell_type": "markdown",
   "metadata": {},
   "source": [
    "## Objective functions\n",
    "\n",
    "There have been a number of questions about how to come up with objective functions. This is a *very* important thing to be able to do. This note provides some guidance on how to think about an objective function.\n",
    "\n",
    "\n",
    "### Properties of optimisation\n",
    "\n",
    "Every optimisation problem has two parts:\n",
    "* **Parameters**, the things that can be adjusted.\n",
    "* **Objective function**, which measures how good a particular set of parameters are.\n",
    "\n",
    "An optimisation problem usually also has:\n",
    "* **Constraints**, that define the feasible set of parameters.\n",
    "\n",
    "The **objective function** is a function *of the parameters* which returns a *single scalar value*, representing how good that parameter set is. \n",
    "\n",
    "## Throwing a stone\n",
    "\n",
    "For example, if I wanted to optimise how far I could throw a stone, I might be able to adjust the throwing angle. This is the *parameter* I could tweak (just one parameter, in this case). \n",
    "\n",
    "The objective function must be a function which depends on this parameter. I would have to *simulate* throwing the ball to work out how far it went and try and make it go further and further."
   ]
  },
  {
   "cell_type": "code",
   "execution_count": null,
   "metadata": {},
   "outputs": [],
   "source": [
    "import numpy as np\n",
    "def L(theta):\n",
    "    # L *must* depend on the parameters I can adjust\n",
    "    # in this case, there is only one; the throw angle\n",
    "    \n",
    "    # pull out the angle, convert from degrees to radians\n",
    "    angle = np.radians(theta[0])\n",
    "    \n",
    "    # initial throw position x=0m, y=1m\n",
    "    pos = np.array([0.0, 1.0])    \n",
    "    \n",
    "    # initial throw velocity, depends on angle\n",
    "    vel = np.array([np.cos(angle), np.sin(angle)])\n",
    "    \n",
    "    # simulate throwing the ball, until it hits the ground\n",
    "    while pos[1]>=0:\n",
    "        pos += vel\n",
    "        vel[1] -= 0.005 # gravity\n",
    "        vel -= 0.01 * vel     # air resistance\n",
    "        \n",
    "    # return how far our throw went\n",
    "    # remember that we want to minimise\n",
    "    # our objective function, so this value\n",
    "    # must get *lower* as our throw gets longer\n",
    "    \n",
    "    return -np.abs(pos[0])\n",
    "        "
   ]
  },
  {
   "cell_type": "markdown",
   "metadata": {},
   "source": [
    "We can now optimize this. "
   ]
  },
  {
   "cell_type": "code",
   "execution_count": null,
   "metadata": {},
   "outputs": [],
   "source": [
    "import scipy.optimize\n",
    "\n",
    "# use a built in optimiser to solve this\n",
    "res = scipy.optimize.minimize(L, [65.0], method=\"nelder-mead\")\n",
    "print(res)"
   ]
  },
  {
   "cell_type": "markdown",
   "metadata": {},
   "source": [
    "We will get a result that throwing the ball at around 30 degrees to the horizontal will give the longest throw. Note that the answer will only be 45 degrees if there is no air resistance; something that would be annoying to work out but is trivial to optimise for. If air resistance is higher, then the throw should be more horizontal."
   ]
  },
  {
   "cell_type": "markdown",
   "metadata": {},
   "source": [
    "### Drone lab\n",
    "The objective function must depend on the parameters and return a single number, which we want to make smaller. You must encapsulate what \"good\" is in this function.\n",
    "\n",
    "For example, in the drone lab, you must define what it means for a flight to be good, as a function which takes in the three *controller parameters* -- these are the knobs you can adjust -- and returns a number which represents the quality of the flight. You don't know what they represent, but you can simulate the behaviour of the drone given those parameters and measure how good they turn out to be.\n",
    "\n",
    "You have to decide what good means and be able to write it down as a Python function."
   ]
  },
  {
   "cell_type": "markdown",
   "metadata": {},
   "source": [
    "## Strone throwing visualisation\n",
    "We can plot each run as the optimisation iterates:"
   ]
  },
  {
   "cell_type": "code",
   "execution_count": null,
   "metadata": {},
   "outputs": [],
   "source": [
    "import numpy as np\n",
    "import matplotlib.pyplot as plt\n",
    "%matplotlib inline\n",
    "def L(theta):\n",
    "    angle = np.radians(theta[0])\n",
    "    pos = np.array([0.0, 1.0])    \n",
    "    vel = np.array([np.cos(angle), np.sin(angle)])\n",
    "    \n",
    "    posns =[]\n",
    "    while pos[1]>=0:\n",
    "        pos += vel\n",
    "        vel[1] -= 0.005 # gravity\n",
    "        vel -= 0.01 * vel     # air resistance\n",
    "        posns.append(np.array(pos))\n",
    "        \n",
    "    posns = np.array(posns)    \n",
    "    ax.plot(posns[:,0], posns[:,1])\n",
    "    ax.text(posns[50,0], posns[50,1]+1, '%.0f' % theta[0])    \n",
    "    return -np.abs(pos[0])\n",
    "\n",
    "fig = plt.figure()\n",
    "ax = fig.add_subplot(1,1,1)\n",
    "ax.set_xlabel(\"Horizontal location (m)\")\n",
    "ax.set_ylabel(\"Vertical location (m)\")\n",
    "import scipy.optimize\n",
    "res = scipy.optimize.minimize(L, [65.0], method=\"nelder-mead\")\n",
    "print(res)"
   ]
  },
  {
   "cell_type": "code",
   "execution_count": null,
   "metadata": {},
   "outputs": [],
   "source": []
  }
 ],
 "metadata": {
  "kernelspec": {
   "display_name": "Python 3",
   "language": "python",
   "name": "python3"
  },
  "language_info": {
   "codemirror_mode": {
    "name": "ipython",
    "version": 3
   },
   "file_extension": ".py",
   "mimetype": "text/x-python",
   "name": "python",
   "nbconvert_exporter": "python",
   "pygments_lexer": "ipython3",
   "version": "3.7.3"
  }
 },
 "nbformat": 4,
 "nbformat_minor": 2
}
